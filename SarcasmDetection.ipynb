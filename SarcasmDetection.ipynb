{
 "cells": [
  {
   "cell_type": "code",
   "execution_count": 1,
   "id": "39b4c0ad",
   "metadata": {
    "colab": {
     "base_uri": "https://localhost:8080/",
     "height": 101
    },
    "id": "39b4c0ad",
    "outputId": "853512f9-7e24-4686-bd96-5efa02758a23"
   },
   "outputs": [
    {
     "data": {
      "text/html": [
       "        <script type=\"text/javascript\">\n",
       "        window.PlotlyConfig = {MathJaxConfig: 'local'};\n",
       "        if (window.MathJax) {MathJax.Hub.Config({SVG: {font: \"STIX-Web\"}});}\n",
       "        if (typeof require !== 'undefined') {\n",
       "        require.undef(\"plotly\");\n",
       "        requirejs.config({\n",
       "            paths: {\n",
       "                'plotly': ['https://cdn.plot.ly/plotly-latest.min']\n",
       "            }\n",
       "        });\n",
       "        require(['plotly'], function(Plotly) {\n",
       "            window._Plotly = Plotly;\n",
       "        });\n",
       "        }\n",
       "        </script>\n",
       "        "
      ]
     },
     "metadata": {
      "tags": []
     },
     "output_type": "display_data"
    },
    {
     "name": "stdout",
     "output_type": "stream",
     "text": [
      "[nltk_data] Downloading package punkt to /root/nltk_data...\n",
      "[nltk_data]   Package punkt is already up-to-date!\n",
      "[nltk_data] Downloading package wordnet to /root/nltk_data...\n",
      "[nltk_data]   Package wordnet is already up-to-date!\n"
     ]
    },
    {
     "data": {
      "text/plain": [
       "True"
      ]
     },
     "execution_count": 1,
     "metadata": {
      "tags": []
     },
     "output_type": "execute_result"
    }
   ],
   "source": [
    "import pandas as pd\n",
    "import numpy as np\n",
    "import matplotlib.pyplot as plt\n",
    "import seaborn as sns\n",
    "from wordcloud import WordCloud, STOPWORDS\n",
    "from collections import defaultdict\n",
    "import string # for punctuation\n",
    "import plotly.graph_objs as go\n",
    "from plotly import subplots\n",
    "import plotly.offline as py\n",
    "py.init_notebook_mode(connected=True)\n",
    "from sklearn.feature_extraction.text import TfidfVectorizer\n",
    "from sklearn.feature_extraction.text import CountVectorizer\n",
    "from gensim.models import Word2Vec\n",
    "import os\n",
    "import nltk\n",
    "from scipy.sparse import hstack\n",
    "import pickle\n",
    "from nltk.stem import PorterStemmer, WordNetLemmatizer\n",
    "from nltk.corpus import wordnet \n",
    "from nltk import word_tokenize\n",
    "nltk.download('punkt')\n",
    "nltk.download('wordnet')"
   ]
  },
  {
   "cell_type": "code",
   "execution_count": 2,
   "id": "4AgMbCpxoDA5",
   "metadata": {
    "colab": {
     "base_uri": "https://localhost:8080/"
    },
    "id": "4AgMbCpxoDA5",
    "outputId": "004b979e-b655-4ec7-da01-a59bf8d6ebd4"
   },
   "outputs": [
    {
     "name": "stdout",
     "output_type": "stream",
     "text": [
      "Drive already mounted at /content/gdrive; to attempt to forcibly remount, call drive.mount(\"/content/gdrive\", force_remount=True).\n"
     ]
    }
   ],
   "source": [
    "from google.colab import drive\n",
    "drive.mount('/content/gdrive')"
   ]
  },
  {
   "cell_type": "code",
   "execution_count": 3,
   "id": "Fi6nB-ZSTeho",
   "metadata": {
    "id": "Fi6nB-ZSTeho"
   },
   "outputs": [],
   "source": [
    "def contain_model(loc):\n",
    "    return os.path.exists(loc)\n",
    "\n",
    "BASE_PATH = \"/content/gdrive/My Drive/ml-phase2/\""
   ]
  },
  {
   "cell_type": "markdown",
   "id": "gyh_TlN75oor",
   "metadata": {
    "id": "gyh_TlN75oor"
   },
   "source": [
    "#Data"
   ]
  },
  {
   "cell_type": "code",
   "execution_count": 31,
   "id": "fc910b85",
   "metadata": {
    "id": "fc910b85"
   },
   "outputs": [],
   "source": [
    "train_dataset = pd.read_csv(BASE_PATH + \"sarcasm_train_set.csv\")\n",
    "test_dataset = pd.read_csv(BASE_PATH + \"sarcasm_test_set.csv\")\n",
    "\n",
    "sarcasm_df = train_dataset[train_dataset[\"label\"]==1]\n",
    "natural_df = train_dataset[train_dataset[\"label\"]==0]"
   ]
  },
  {
   "cell_type": "code",
   "execution_count": 23,
   "id": "f77839c8",
   "metadata": {
    "colab": {
     "base_uri": "https://localhost:8080/",
     "height": 203
    },
    "id": "f77839c8",
    "outputId": "a4e66d6f-8083-4580-b9dd-eb77decce8dc"
   },
   "outputs": [
    {
     "data": {
      "text/html": [
       "<div>\n",
       "<style scoped>\n",
       "    .dataframe tbody tr th:only-of-type {\n",
       "        vertical-align: middle;\n",
       "    }\n",
       "\n",
       "    .dataframe tbody tr th {\n",
       "        vertical-align: top;\n",
       "    }\n",
       "\n",
       "    .dataframe thead th {\n",
       "        text-align: right;\n",
       "    }\n",
       "</style>\n",
       "<table border=\"1\" class=\"dataframe\">\n",
       "  <thead>\n",
       "    <tr style=\"text-align: right;\">\n",
       "      <th></th>\n",
       "      <th>Unnamed: 0</th>\n",
       "      <th>label</th>\n",
       "      <th>comment</th>\n",
       "      <th>author</th>\n",
       "      <th>subreddit</th>\n",
       "      <th>score</th>\n",
       "      <th>ups</th>\n",
       "      <th>downs</th>\n",
       "      <th>date</th>\n",
       "      <th>created_utc</th>\n",
       "      <th>parent_comment</th>\n",
       "    </tr>\n",
       "  </thead>\n",
       "  <tbody>\n",
       "    <tr>\n",
       "      <th>0</th>\n",
       "      <td>0</td>\n",
       "      <td>0</td>\n",
       "      <td>NC and NH.</td>\n",
       "      <td>Trumpbart</td>\n",
       "      <td>politics</td>\n",
       "      <td>2</td>\n",
       "      <td>-1</td>\n",
       "      <td>-1</td>\n",
       "      <td>2016-10</td>\n",
       "      <td>2016-10-16 23:55:23</td>\n",
       "      <td>Yeah, I get that argument. At this point, I'd ...</td>\n",
       "    </tr>\n",
       "    <tr>\n",
       "      <th>1</th>\n",
       "      <td>1</td>\n",
       "      <td>0</td>\n",
       "      <td>You do know west teams play against west teams...</td>\n",
       "      <td>Shbshb906</td>\n",
       "      <td>nba</td>\n",
       "      <td>-4</td>\n",
       "      <td>-1</td>\n",
       "      <td>-1</td>\n",
       "      <td>2016-11</td>\n",
       "      <td>2016-11-01 00:24:10</td>\n",
       "      <td>The blazers and Mavericks (The wests 5 and 6 s...</td>\n",
       "    </tr>\n",
       "    <tr>\n",
       "      <th>2</th>\n",
       "      <td>2</td>\n",
       "      <td>0</td>\n",
       "      <td>They were underdogs earlier today, but since G...</td>\n",
       "      <td>Creepeth</td>\n",
       "      <td>nfl</td>\n",
       "      <td>3</td>\n",
       "      <td>3</td>\n",
       "      <td>0</td>\n",
       "      <td>2016-09</td>\n",
       "      <td>2016-09-22 21:45:37</td>\n",
       "      <td>They're favored to win.</td>\n",
       "    </tr>\n",
       "    <tr>\n",
       "      <th>3</th>\n",
       "      <td>3</td>\n",
       "      <td>0</td>\n",
       "      <td>This meme isn't funny none of the \"new york ni...</td>\n",
       "      <td>icebrotha</td>\n",
       "      <td>BlackPeopleTwitter</td>\n",
       "      <td>-8</td>\n",
       "      <td>-1</td>\n",
       "      <td>-1</td>\n",
       "      <td>2016-10</td>\n",
       "      <td>2016-10-18 21:03:47</td>\n",
       "      <td>deadass don't kill my buzz</td>\n",
       "    </tr>\n",
       "    <tr>\n",
       "      <th>4</th>\n",
       "      <td>5</td>\n",
       "      <td>0</td>\n",
       "      <td>I don't pay attention to her, but as long as s...</td>\n",
       "      <td>only7inches</td>\n",
       "      <td>AskReddit</td>\n",
       "      <td>0</td>\n",
       "      <td>0</td>\n",
       "      <td>0</td>\n",
       "      <td>2016-09</td>\n",
       "      <td>2016-09-02 10:35:08</td>\n",
       "      <td>do you find ariana grande sexy ?</td>\n",
       "    </tr>\n",
       "  </tbody>\n",
       "</table>\n",
       "</div>"
      ],
      "text/plain": [
       "   Unnamed: 0  ...                                     parent_comment\n",
       "0           0  ...  Yeah, I get that argument. At this point, I'd ...\n",
       "1           1  ...  The blazers and Mavericks (The wests 5 and 6 s...\n",
       "2           2  ...                            They're favored to win.\n",
       "3           3  ...                         deadass don't kill my buzz\n",
       "4           5  ...                   do you find ariana grande sexy ?\n",
       "\n",
       "[5 rows x 11 columns]"
      ]
     },
     "execution_count": 23,
     "metadata": {
      "tags": []
     },
     "output_type": "execute_result"
    }
   ],
   "source": [
    "train_dataset.head()"
   ]
  },
  {
   "cell_type": "code",
   "execution_count": 24,
   "id": "SVWM57kRlKOr",
   "metadata": {
    "colab": {
     "base_uri": "https://localhost:8080/"
    },
    "id": "SVWM57kRlKOr",
    "outputId": "50d201d9-48ce-43ff-edfd-8e51842166de"
   },
   "outputs": [
    {
     "name": "stdout",
     "output_type": "stream",
     "text": [
      "<class 'pandas.core.frame.DataFrame'>\n",
      "RangeIndex: 808998 entries, 0 to 808997\n",
      "Data columns (total 11 columns):\n",
      " #   Column          Non-Null Count   Dtype \n",
      "---  ------          --------------   ----- \n",
      " 0   Unnamed: 0      808998 non-null  int64 \n",
      " 1   label           808998 non-null  int64 \n",
      " 2   comment         808960 non-null  object\n",
      " 3   author          808998 non-null  object\n",
      " 4   subreddit       808998 non-null  object\n",
      " 5   score           808998 non-null  int64 \n",
      " 6   ups             808998 non-null  int64 \n",
      " 7   downs           808998 non-null  int64 \n",
      " 8   date            808998 non-null  object\n",
      " 9   created_utc     808998 non-null  object\n",
      " 10  parent_comment  808998 non-null  object\n",
      "dtypes: int64(5), object(6)\n",
      "memory usage: 67.9+ MB\n"
     ]
    }
   ],
   "source": [
    "train_dataset.info()"
   ]
  },
  {
   "cell_type": "markdown",
   "id": "eea283f3",
   "metadata": {
    "id": "eea283f3"
   },
   "source": [
    "# Preprocessing"
   ]
  },
  {
   "cell_type": "markdown",
   "id": "3a7f4d57",
   "metadata": {
    "id": "3a7f4d57"
   },
   "source": [
    "Before any thing we need preprocess texts:\n",
    "- remove stop words ( words like: and, I, you ) which are used very regularly\n",
    "- remove puncuation marks\n",
    "- lower case texts\n",
    "- stemming\n",
    "- lemmatization\n",
    "\n",
    "\n",
    "The idea of **lemmatization** is to bring a wird to it's base form, for example: \"seen => see\", \"drove => drive\". The situation here is the same as with stemming,even more tricky. We need to write tokenizer here and strip the punctuation manually, but finally it works.\n",
    "\n",
    "**Stemming** cuts the ending of the word like this \"house, houses, house’s, houses’ => house\". \n"
   ]
  },
  {
   "cell_type": "code",
   "execution_count": 25,
   "id": "6911d8fd",
   "metadata": {
    "id": "6911d8fd"
   },
   "outputs": [],
   "source": [
    "def preprocess(dataset, loc):\n",
    "    if contain_model(loc):\n",
    "    dataset = pd.read_csv(loc)\n",
    "    else:\n",
    "    dataset.dropna(subset=['comment'], inplace=True)\n",
    "    dataset = lower_case(dataset)\n",
    "    dataset = remove_stop_words(dataset)\n",
    "    dataset = stemming(dataset)\n",
    "    dataset = lemma(dataset)\n",
    "    dataset = remove_puncuation(dataset)\n",
    "\n",
    "    dataset.replace(\"\", float(\"NaN\"), inplace=True)\n",
    "    dataset.dropna(inplace=True)\n",
    "    dataset.to_csv(loc)\n",
    "\n",
    "    return dataset\n",
    "    \n",
    "def lower_case(dataset):    \n",
    "    dataset['comment'] = dataset['comment'].str.lower()\n",
    "    dataset['parent_comment'] = dataset['parent_comment'].str.lower()\n",
    "    return dataset\n",
    "        \n",
    "def remove_puncuation(dataset):\n",
    "    def rm_punc(text: str):\n",
    "        for punctuation in string.punctuation:\n",
    "            text = text.replace(punctuation, '')\n",
    "        return text\n",
    "    \n",
    "    dataset['comment'] = dataset['comment'].apply(rm_punc)\n",
    "    dataset['parent_comment'] = dataset['parent_comment'].apply(rm_punc)\n",
    "    return dataset\n",
    "\n",
    "def remove_stop_words(dataset):\n",
    "    def rm_sw(text):\n",
    "        return ' '.join([word for word in text.split() if word not in (STOPWORDS)])\n",
    "    \n",
    "    dataset['comment'] = dataset['comment'].apply(rm_sw)\n",
    "    dataset['parent_comment'] = dataset['parent_comment'].apply(rm_sw)\n",
    "    return dataset\n",
    "\n",
    "def stemming(dataset):\n",
    "    def stem(text):\n",
    "        return ' '.join([stemmer.stem(word) for word in text.split()])\n",
    "  \n",
    "    stemmer = PorterStemmer()\n",
    "    dataset['comment'] = dataset['comment'].apply(stem)\n",
    "    dataset['parent_comment'] = dataset['parent_comment'].apply(stem)\n",
    "    return dataset\n",
    "\n",
    "def lemma(dataset):\n",
    "    def l(text):\n",
    "        return ' '.join([wnl.lemmatize(word, wordnet.VERB) for word in word_tokenize(text)])\n",
    "\n",
    "    wnl = WordNetLemmatizer()\n",
    "    dataset['comment'] = dataset['comment'].apply(l)\n",
    "    dataset['parent_comment'] = dataset['parent_comment'].apply(l)\n",
    "    return dataset"
   ]
  },
  {
   "cell_type": "code",
   "execution_count": 77,
   "id": "acae9a9a",
   "metadata": {
    "id": "acae9a9a"
   },
   "outputs": [],
   "source": [
    "train_dataset = preprocess(train_dataset, BASE_PATH + \"train_processed.csv\")\n",
    "test_dataset = preprocess(test_dataset, \"test_processed.csv\")"
   ]
  },
  {
   "cell_type": "code",
   "execution_count": 78,
   "id": "2ECpMG1moZrq",
   "metadata": {
    "id": "2ECpMG1moZrq"
   },
   "outputs": [],
   "source": [
    "data_train = train_dataset\n",
    "data_test = test_dataset"
   ]
  },
  {
   "cell_type": "code",
   "execution_count": 19,
   "id": "995448dd",
   "metadata": {
    "colab": {
     "base_uri": "https://localhost:8080/",
     "height": 203
    },
    "id": "995448dd",
    "outputId": "29961cd8-183e-4060-d41f-85ceb220a998"
   },
   "outputs": [
    {
     "data": {
      "text/html": [
       "<div>\n",
       "<style scoped>\n",
       "    .dataframe tbody tr th:only-of-type {\n",
       "        vertical-align: middle;\n",
       "    }\n",
       "\n",
       "    .dataframe tbody tr th {\n",
       "        vertical-align: top;\n",
       "    }\n",
       "\n",
       "    .dataframe thead th {\n",
       "        text-align: right;\n",
       "    }\n",
       "</style>\n",
       "<table border=\"1\" class=\"dataframe\">\n",
       "  <thead>\n",
       "    <tr style=\"text-align: right;\">\n",
       "      <th></th>\n",
       "      <th>Unnamed: 0</th>\n",
       "      <th>label</th>\n",
       "      <th>comment</th>\n",
       "      <th>author</th>\n",
       "      <th>subreddit</th>\n",
       "      <th>score</th>\n",
       "      <th>ups</th>\n",
       "      <th>downs</th>\n",
       "      <th>date</th>\n",
       "      <th>created_utc</th>\n",
       "      <th>parent_comment</th>\n",
       "    </tr>\n",
       "  </thead>\n",
       "  <tbody>\n",
       "    <tr>\n",
       "      <th>0</th>\n",
       "      <td>0</td>\n",
       "      <td>0</td>\n",
       "      <td>NC and NH.</td>\n",
       "      <td>Trumpbart</td>\n",
       "      <td>politics</td>\n",
       "      <td>2</td>\n",
       "      <td>-1</td>\n",
       "      <td>-1</td>\n",
       "      <td>2016-10</td>\n",
       "      <td>2016-10-16 23:55:23</td>\n",
       "      <td>Yeah, I get that argument. At this point, I'd ...</td>\n",
       "    </tr>\n",
       "    <tr>\n",
       "      <th>1</th>\n",
       "      <td>1</td>\n",
       "      <td>0</td>\n",
       "      <td>You do know west teams play against west teams...</td>\n",
       "      <td>Shbshb906</td>\n",
       "      <td>nba</td>\n",
       "      <td>-4</td>\n",
       "      <td>-1</td>\n",
       "      <td>-1</td>\n",
       "      <td>2016-11</td>\n",
       "      <td>2016-11-01 00:24:10</td>\n",
       "      <td>The blazers and Mavericks (The wests 5 and 6 s...</td>\n",
       "    </tr>\n",
       "    <tr>\n",
       "      <th>2</th>\n",
       "      <td>2</td>\n",
       "      <td>0</td>\n",
       "      <td>They were underdogs earlier today, but since G...</td>\n",
       "      <td>Creepeth</td>\n",
       "      <td>nfl</td>\n",
       "      <td>3</td>\n",
       "      <td>3</td>\n",
       "      <td>0</td>\n",
       "      <td>2016-09</td>\n",
       "      <td>2016-09-22 21:45:37</td>\n",
       "      <td>They're favored to win.</td>\n",
       "    </tr>\n",
       "    <tr>\n",
       "      <th>3</th>\n",
       "      <td>3</td>\n",
       "      <td>0</td>\n",
       "      <td>This meme isn't funny none of the \"new york ni...</td>\n",
       "      <td>icebrotha</td>\n",
       "      <td>BlackPeopleTwitter</td>\n",
       "      <td>-8</td>\n",
       "      <td>-1</td>\n",
       "      <td>-1</td>\n",
       "      <td>2016-10</td>\n",
       "      <td>2016-10-18 21:03:47</td>\n",
       "      <td>deadass don't kill my buzz</td>\n",
       "    </tr>\n",
       "    <tr>\n",
       "      <th>4</th>\n",
       "      <td>5</td>\n",
       "      <td>0</td>\n",
       "      <td>I don't pay attention to her, but as long as s...</td>\n",
       "      <td>only7inches</td>\n",
       "      <td>AskReddit</td>\n",
       "      <td>0</td>\n",
       "      <td>0</td>\n",
       "      <td>0</td>\n",
       "      <td>2016-09</td>\n",
       "      <td>2016-09-02 10:35:08</td>\n",
       "      <td>do you find ariana grande sexy ?</td>\n",
       "    </tr>\n",
       "  </tbody>\n",
       "</table>\n",
       "</div>"
      ],
      "text/plain": [
       "  Unnamed: 0  ...                                     parent_comment\n",
       "0          0  ...  Yeah, I get that argument. At this point, I'd ...\n",
       "1          1  ...  The blazers and Mavericks (The wests 5 and 6 s...\n",
       "2          2  ...                            They're favored to win.\n",
       "3          3  ...                         deadass don't kill my buzz\n",
       "4          5  ...                   do you find ariana grande sexy ?\n",
       "\n",
       "[5 rows x 11 columns]"
      ]
     },
     "execution_count": 19,
     "metadata": {
      "tags": []
     },
     "output_type": "execute_result"
    }
   ],
   "source": [
    "train_dataset.head()"
   ]
  },
  {
   "cell_type": "markdown",
   "id": "UQwRhm_d2Dmq",
   "metadata": {
    "id": "UQwRhm_d2Dmq"
   },
   "source": [
    "# EDA"
   ]
  },
  {
   "cell_type": "code",
   "execution_count": 10,
   "id": "be605877",
   "metadata": {
    "colab": {
     "base_uri": "https://localhost:8080/"
    },
    "id": "be605877",
    "outputId": "eaea3800-4a64-4b23-e0a9-5f311d0907ed"
   },
   "outputs": [
    {
     "name": "stdout",
     "output_type": "stream",
     "text": [
      "There are 808998 and 11 columns for train data\n"
     ]
    }
   ],
   "source": [
    "row, col = train_dataset.shape\n",
    "print(\"There are\", row, \"and\", col, \"columns for train data\")"
   ]
  },
  {
   "cell_type": "markdown",
   "id": "DXOOJCIrlruy",
   "metadata": {
    "id": "DXOOJCIrlruy"
   },
   "source": [
    "We can see that the maximum values of score and ups are very high, but the maximum of downs is only 0. Likewise, the minimum values for score and ups get very low to -507, but the minimum for downs is only -1. <br>\n",
    "\n",
    "Curiously, we can also see that the maximum of score does not equal the maximum of ups. From the 25th and 75th percentile values, we can determine that half of the data is at or between the values of 0 and 4. Since the minimum and maximum are quite far from this range, this means that the distribution of the scores is likely to be very skewed"
   ]
  },
  {
   "cell_type": "code",
   "execution_count": 33,
   "id": "TPJjo4demlSt",
   "metadata": {
    "colab": {
     "base_uri": "https://localhost:8080/",
     "height": 295
    },
    "id": "TPJjo4demlSt",
    "outputId": "87dcd537-d37f-4144-d95f-1eadb0e3ea46"
   },
   "outputs": [
    {
     "data": {
      "text/html": [
       "<div>\n",
       "<style scoped>\n",
       "    .dataframe tbody tr th:only-of-type {\n",
       "        vertical-align: middle;\n",
       "    }\n",
       "\n",
       "    .dataframe tbody tr th {\n",
       "        vertical-align: top;\n",
       "    }\n",
       "\n",
       "    .dataframe thead th {\n",
       "        text-align: right;\n",
       "    }\n",
       "</style>\n",
       "<table border=\"1\" class=\"dataframe\">\n",
       "  <thead>\n",
       "    <tr style=\"text-align: right;\">\n",
       "      <th></th>\n",
       "      <th>Unnamed: 0</th>\n",
       "      <th>label</th>\n",
       "      <th>score</th>\n",
       "      <th>ups</th>\n",
       "      <th>downs</th>\n",
       "    </tr>\n",
       "  </thead>\n",
       "  <tbody>\n",
       "    <tr>\n",
       "      <th>count</th>\n",
       "      <td>8.089980e+05</td>\n",
       "      <td>808998.000000</td>\n",
       "      <td>808998.000000</td>\n",
       "      <td>808998.000000</td>\n",
       "      <td>808998.000000</td>\n",
       "    </tr>\n",
       "    <tr>\n",
       "      <th>mean</th>\n",
       "      <td>5.053423e+05</td>\n",
       "      <td>0.500333</td>\n",
       "      <td>6.895280</td>\n",
       "      <td>5.493865</td>\n",
       "      <td>-0.145936</td>\n",
       "    </tr>\n",
       "    <tr>\n",
       "      <th>std</th>\n",
       "      <td>2.917874e+05</td>\n",
       "      <td>0.500000</td>\n",
       "      <td>48.624648</td>\n",
       "      <td>40.947984</td>\n",
       "      <td>0.353042</td>\n",
       "    </tr>\n",
       "    <tr>\n",
       "      <th>min</th>\n",
       "      <td>0.000000e+00</td>\n",
       "      <td>0.000000</td>\n",
       "      <td>-507.000000</td>\n",
       "      <td>-507.000000</td>\n",
       "      <td>-1.000000</td>\n",
       "    </tr>\n",
       "    <tr>\n",
       "      <th>25%</th>\n",
       "      <td>2.525642e+05</td>\n",
       "      <td>0.000000</td>\n",
       "      <td>1.000000</td>\n",
       "      <td>0.000000</td>\n",
       "      <td>0.000000</td>\n",
       "    </tr>\n",
       "    <tr>\n",
       "      <th>50%</th>\n",
       "      <td>5.052075e+05</td>\n",
       "      <td>1.000000</td>\n",
       "      <td>2.000000</td>\n",
       "      <td>1.000000</td>\n",
       "      <td>0.000000</td>\n",
       "    </tr>\n",
       "    <tr>\n",
       "      <th>75%</th>\n",
       "      <td>7.580998e+05</td>\n",
       "      <td>1.000000</td>\n",
       "      <td>4.000000</td>\n",
       "      <td>3.000000</td>\n",
       "      <td>0.000000</td>\n",
       "    </tr>\n",
       "    <tr>\n",
       "      <th>max</th>\n",
       "      <td>1.010825e+06</td>\n",
       "      <td>1.000000</td>\n",
       "      <td>9070.000000</td>\n",
       "      <td>5163.000000</td>\n",
       "      <td>0.000000</td>\n",
       "    </tr>\n",
       "  </tbody>\n",
       "</table>\n",
       "</div>"
      ],
      "text/plain": [
       "         Unnamed: 0          label          score            ups          downs\n",
       "count  8.089980e+05  808998.000000  808998.000000  808998.000000  808998.000000\n",
       "mean   5.053423e+05       0.500333       6.895280       5.493865      -0.145936\n",
       "std    2.917874e+05       0.500000      48.624648      40.947984       0.353042\n",
       "min    0.000000e+00       0.000000    -507.000000    -507.000000      -1.000000\n",
       "25%    2.525642e+05       0.000000       1.000000       0.000000       0.000000\n",
       "50%    5.052075e+05       1.000000       2.000000       1.000000       0.000000\n",
       "75%    7.580998e+05       1.000000       4.000000       3.000000       0.000000\n",
       "max    1.010825e+06       1.000000    9070.000000    5163.000000       0.000000"
      ]
     },
     "execution_count": 33,
     "metadata": {
      "tags": []
     },
     "output_type": "execute_result"
    }
   ],
   "source": [
    "train_dataset.describe()"
   ]
  },
  {
   "cell_type": "markdown",
   "id": "XHZTUGMSm7ih",
   "metadata": {
    "id": "XHZTUGMSm7ih"
   },
   "source": [
    "So what does this investigation of negative ups and downs tell us? Well, it tells me that the ups and downs columns seem unreliable. Since there is no explanation for what these columns mean on either the Kaggle page for this dataset or in the paper by the authors, we may want to consider not including these columns in our future models."
   ]
  },
  {
   "cell_type": "code",
   "execution_count": 34,
   "id": "Zxp0E0hvm1z5",
   "metadata": {
    "colab": {
     "base_uri": "https://localhost:8080/"
    },
    "id": "Zxp0E0hvm1z5",
    "outputId": "08ce08cb-3d39-4ce2-8f70-f34048af12ed"
   },
   "outputs": [
    {
     "data": {
      "text/plain": [
       "Unnamed: 0                                                   305117\n",
       "label                                                             1\n",
       "comment           yes...the smiling is irrelevant when trying to...\n",
       "author                                                     Grippler\n",
       "subreddit                                                       aww\n",
       "score                                                          -507\n",
       "ups                                                            -507\n",
       "downs                                                             0\n",
       "date                                                        2016-07\n",
       "created_utc                                     2016-07-16 14:33:06\n",
       "parent_comment    She did the happy dance! Thats how you know sh...\n",
       "Name: 244361, dtype: object"
      ]
     },
     "execution_count": 34,
     "metadata": {
      "tags": []
     },
     "output_type": "execute_result"
    }
   ],
   "source": [
    "i = train_dataset[\"ups\"].idxmin()\n",
    "train_dataset.loc[i, :]"
   ]
  },
  {
   "cell_type": "markdown",
   "id": "6ea19112",
   "metadata": {
    "id": "6ea19112"
   },
   "source": [
    "This figure ensures that the dataset is balanced as the proportion of the sarcastic and non-sarcastic comments are same i.e.- 50%\n"
   ]
  },
  {
   "cell_type": "code",
   "execution_count": 13,
   "id": "91b38e20",
   "metadata": {
    "colab": {
     "base_uri": "https://localhost:8080/",
     "height": 279
    },
    "id": "91b38e20",
    "outputId": "21aadaab-0c46-41c8-e38e-92f0ab8afdaa"
   },
   "outputs": [
    {
     "data": {
      "image/png": "[encoded data removed]",
      "text/plain": [
       "<Figure size 432x288 with 1 Axes>"
      ]
     },
     "metadata": {
      "needs_background": "light",
      "tags": []
     },
     "output_type": "display_data"
    }
   ],
   "source": [
    "ax = sns.countplot(x='label',  data=train_dataset) \n",
    "plt.show()"
   ]
  },
  {
   "cell_type": "markdown",
   "id": "14673f88",
   "metadata": {
    "id": "14673f88"
   },
   "source": [
    "## Word Cloud of sarcasm comments"
   ]
  },
  {
   "cell_type": "markdown",
   "id": "5b6c2dcc",
   "metadata": {
    "id": "5b6c2dcc"
   },
   "source": [
    "Lets try to show word coloud of comments:"
   ]
  },
  {
   "cell_type": "code",
   "execution_count": 14,
   "id": "b3471415",
   "metadata": {
    "colab": {
     "base_uri": "https://localhost:8080/",
     "height": 386
    },
    "id": "b3471415",
    "outputId": "f2c96b7a-2159-4442-d7b9-801545d6d675"
   },
   "outputs": [
    {
     "data": {
      "image/png": "[encoded data removed]",
      "text/plain": [
       "<Figure size 864x864 with 1 Axes>"
      ]
     },
     "metadata": {
      "needs_background": "light",
      "tags": []
     },
     "output_type": "display_data"
    }
   ],
   "source": [
    "wordcloud = WordCloud(background_color='black', stopwords = STOPWORDS,\n",
    "                max_words = 200, max_font_size = 100, \n",
    "                random_state = 17, width=800, height=400)\n",
    "\n",
    "plt.figure(figsize=(12, 12))\n",
    "wordcloud.generate(str(train_dataset.loc[train_dataset['label'] == 1, 'comment']))\n",
    "plt.grid(b= False)\n",
    "plt.imshow(wordcloud);"
   ]
  },
  {
   "cell_type": "markdown",
   "id": "48cdd681",
   "metadata": {
    "id": "48cdd681"
   },
   "source": [
    "## Most frequent tokens"
   ]
  },
  {
   "cell_type": "markdown",
   "id": "3a04ac22",
   "metadata": {
    "id": "3a04ac22"
   },
   "source": [
    "Now we show most frequent tokens in unigram, bigram, and trigrams for both classes:"
   ]
  },
  {
   "cell_type": "code",
   "execution_count": 35,
   "id": "0d057abf",
   "metadata": {
    "id": "0d057abf"
   },
   "outputs": [],
   "source": [
    "def generate_ngrams(text, n_gram=1):\n",
    "    token = [\n",
    "        token.strip(string.punctuation)         # remove punctuation\n",
    "        for token in text.lower().split(\" \")    # for words in text; lower cased\n",
    "            if token.strip(string.punctuation) != \"\"\n",
    "                 if token not in STOPWORDS      # except empty and stop words\n",
    "    ] \n",
    "    ngrams = zip(*[token[i:] for i in range(n_gram)])\n",
    "    return [\" \".join(ngram) for ngram in ngrams]\n",
    "\n",
    "def get_frequent_tokens(df, count, n_gram):\n",
    "    ## Get the bar chart from insincere questions ##\n",
    "    freq_dict = defaultdict(int)\n",
    "    for comment in  df[\"comment\"]:\n",
    "        for word in generate_ngrams(comment, n_gram):\n",
    "            freq_dict[word] += 1\n",
    "    fd_sorted = pd.DataFrame(sorted(freq_dict.items(), key=lambda x: x[1])[::-1])\n",
    "    fd_sorted.columns = [\"word\", \"wordcount\"]\n",
    "    return fd_sorted.head(count)\n",
    "\n",
    "def horizontal_bar_chart(df, color):\n",
    "    trace = go.Bar(\n",
    "        y=df[\"word\"].values[::-1],\n",
    "        x=df[\"wordcount\"].values[::-1],\n",
    "        showlegend=False,\n",
    "        orientation = 'h',\n",
    "        marker=dict(\n",
    "            color=color,\n",
    "        ),\n",
    "    )\n",
    "    return trace\n",
    "\n"
   ]
  },
  {
   "cell_type": "code",
   "execution_count": 103,
   "id": "b2335bdc",
   "metadata": {
    "id": "b2335bdc"
   },
   "outputs": [],
   "source": [
    "## Get the bar chart from natural comments ##\n",
    "natural_df = train_dataset[train_dataset[\"label\"]==0]\n",
    "freq_tokens = get_frequent_tokens(natural_df, 30, 1)\n",
    "trace0 = horizontal_bar_chart(freq_tokens, 'blue')\n",
    "\n",
    "## Get the bar chart from sarcasm comments ##\n",
    "sarcasm_df = train_dataset[train_dataset[\"label\"]==1]\n",
    "freq_tokens = get_frequent_tokens(sarcasm_df, 30, 1)\n",
    "trace1 = horizontal_bar_chart(freq_tokens, 'red')\n",
    "\n",
    "# Creating two subplots\n",
    "fig = subplots.make_subplots(\n",
    "    rows=1, cols=2, vertical_spacing=0.04,\n",
    "    subplot_titles=[\"Frequent words of natural comments\", \"Frequent words of sarcasm comments\"]\n",
    ")\n",
    "fig.append_trace(trace0, 1, 1)\n",
    "fig.append_trace(trace1, 1, 2)\n",
    "fig['layout'].update(height=700, width=900, paper_bgcolor='rgb(233,233,233)', title=\"Word Count Plots\")\n",
    "py.iplot(fig, filename='word-plots')"
   ]
  },
  {
   "cell_type": "code",
   "execution_count": 35,
   "id": "47d30382",
   "metadata": {
    "id": "47d30382"
   },
   "outputs": [],
   "source": [
    "# BIGRAMS\n",
    "## Get the bar chart from natural comments ##\n",
    "freq_tokens = get_frequent_tokens(natural_df, 30, 2)\n",
    "trace0 = horizontal_bar_chart(freq_tokens, 'blue')\n",
    "\n",
    "## Get the bar chart from sarcasm comments ##\n",
    "freq_tokens = get_frequent_tokens(sarcasm_df, 30, 2)\n",
    "trace1 = horizontal_bar_chart(freq_tokens, 'red')\n",
    "\n",
    "# Creating two subplots\n",
    "fig = subplots.make_subplots(rows=1, cols=2, vertical_spacing=0.04,horizontal_spacing=0.15,\n",
    "                          subplot_titles=[\"Frequent bigrams of natural comments\", \n",
    "                                          \"Frequent bigrams of sarcasm comments\"])\n",
    "fig.append_trace(trace0, 1, 1)\n",
    "fig.append_trace(trace1, 1, 2)\n",
    "fig['layout'].update(height=700, width=900, paper_bgcolor='rgb(233,233,233)', title=\"Bigram Count Plots\")\n",
    "py.iplot(fig, filename='word-plots')"
   ]
  },
  {
   "cell_type": "code",
   "execution_count": 35,
   "id": "70dfe329",
   "metadata": {
    "id": "70dfe329"
   },
   "outputs": [],
   "source": [
    "# TRIGRAMS\n",
    "## Get the bar chart from natural comments ##\n",
    "freq_tokens = get_frequent_tokens(natural_df, 30, 3)\n",
    "trace0 = horizontal_bar_chart(freq_tokens, 'blue')\n",
    "\n",
    "## Get the bar chart from sarcasm comments ##\n",
    "freq_tokens = get_frequent_tokens(sarcasm_df, 30, 3)\n",
    "trace1 = horizontal_bar_chart(freq_tokens, 'red')\n",
    "\n",
    "# Creating two subplots\n",
    "fig = subplots.make_subplots(rows=1, cols=2, vertical_spacing=0.04,horizontal_spacing=0.15,\n",
    "                          subplot_titles=[\"Frequent Trigrams of natural comments\", \n",
    "                                          \"Frequent Trigrams of sarcasm comments\"])\n",
    "fig.append_trace(trace0, 1, 1)\n",
    "fig.append_trace(trace1, 1, 2)\n",
    "fig['layout'].update(height=700, width=900, paper_bgcolor='rgb(233,233,233)', title=\"Trigram Count Plots\")\n",
    "py.iplot(fig, filename='word-plots')"
   ]
  },
  {
   "cell_type": "markdown",
   "id": "71de6403",
   "metadata": {
    "id": "71de6403"
   },
   "source": [
    "Results:\n",
    "- 'oh', 'realy', 'obviously' -> sarcasm \n",
    "- 'good thing', 'everyone knows' -> sarcasm\n",
    "- Many combinations -> for both sarcasm and non-sarcasm\n"
   ]
  },
  {
   "cell_type": "markdown",
   "id": "5176bf96",
   "metadata": {
    "id": "5176bf96"
   },
   "source": [
    "## Score"
   ]
  },
  {
   "cell_type": "markdown",
   "id": "1e22fb08",
   "metadata": {
    "id": "1e22fb08"
   },
   "source": [
    "** **Distribution of Log Scores for Sarcastic and Non-Sarcastic :** **"
   ]
  },
  {
   "cell_type": "markdown",
   "id": "uB_dNKJSo3PI",
   "metadata": {
    "id": "uB_dNKJSo3PI"
   },
   "source": [
    "In this histogram, I zoom in to the score range of -7.5 to +7.5 because we have very long, thin tails in the distribution of scores. The distributions of scores for sarcastic and non-sarcastic comments seem to be very similar, but we can see that sarcastic comments are slightly more likely to get negative scores, while non-sarcastic comments are slightly more likely to get scores in the 1 to 3 range."
   ]
  },
  {
   "cell_type": "code",
   "execution_count": 38,
   "id": "5338622a",
   "metadata": {
    "colab": {
     "base_uri": "https://localhost:8080/",
     "height": 421
    },
    "id": "5338622a",
    "outputId": "54d9945c-ba0c-4ffd-d192-c125ba3d0302"
   },
   "outputs": [
    {
     "data": {
      "text/plain": [
       "Text(0.5, 1.0, 'LogBase10-Scores for Sarcastic vs. None-Sarcastic Comments')"
      ]
     },
     "execution_count": 38,
     "metadata": {
      "tags": []
     },
     "output_type": "execute_result"
    },
    {
     "data": {
      "image/png": "[encoded data removed]",
      "text/plain": [
       "<Figure size 576x432 with 1 Axes>"
      ]
     },
     "metadata": {
      "needs_background": "light",
      "tags": []
     },
     "output_type": "display_data"
    }
   ],
   "source": [
    "plt.figure(figsize=(8,6))\n",
    "df = train_dataset.copy()\n",
    "mean = df['score'].mean()\n",
    "std = df['score'].std()\n",
    "\n",
    "df[(df['score'].abs()<(10-((df['score'].abs()-mean)/std))) & (df['label']==1)]['score'].hist(alpha=0.5,label='Sarcastic', color = 'red')\n",
    "df[(df['score'].abs()<(10-((df['score'].abs()-mean)/std))) & (df['label']==0)]['score'].hist(alpha=0.5,label='Not Sarcastic', color = 'blue')\n",
    "plt.yscale('log')\n",
    "plt.ylabel('Log Base10 Frequency')\n",
    "plt.xlabel('Score')\n",
    "plt.legend()\n",
    "plt.title('LogBase10-Scores for Sarcastic vs. None-Sarcastic Comments')"
   ]
  },
  {
   "cell_type": "markdown",
   "id": "7dcc208b",
   "metadata": {
    "id": "7dcc208b"
   },
   "source": [
    " ** **Distribution of ups for Sarcastic and Non-Sarcastic Comments:** **\n"
   ]
  },
  {
   "cell_type": "markdown",
   "id": "oQ7vvw7GqO3m",
   "metadata": {
    "id": "oQ7vvw7GqO3m"
   },
   "source": [
    "As the previous part, in this histogram, I zoom in to the score range of -7.5 to +7.5. We can see that sarcastic comments are slightly more likely to larger absolute ups, while non-sarcastic comments are slightly more likely to get ups in the -2 to 3 range."
   ]
  },
  {
   "cell_type": "code",
   "execution_count": 39,
   "id": "012e6a0d",
   "metadata": {
    "colab": {
     "base_uri": "https://localhost:8080/",
     "height": 421
    },
    "id": "012e6a0d",
    "outputId": "c841865c-4f5c-41de-fb66-97644a55f8aa"
   },
   "outputs": [
    {
     "data": {
      "text/plain": [
       "Text(0.5, 1.0, 'LogBase10-ups for Sarcastic vs. None-Sarcastic Comments')"
      ]
     },
     "execution_count": 39,
     "metadata": {
      "tags": []
     },
     "output_type": "execute_result"
    },
    {
     "data": {
      "image/png": "[encoded data removed]",
      "text/plain": [
       "<Figure size 576x432 with 1 Axes>"
      ]
     },
     "metadata": {
      "needs_background": "light",
      "tags": []
     },
     "output_type": "display_data"
    }
   ],
   "source": [
    "plt.figure(figsize=(8,6))\n",
    "mean = df['ups'].mean()\n",
    "std = df['ups'].std()\n",
    "\n",
    "\n",
    "df[(df['ups'].abs()<(10-((df['ups'].abs()-mean)/std))) & (df['label']==1)]['ups'].hist(alpha=0.5,label='Sarcastic', color = 'red')\n",
    "df[(df['ups'].abs()<(10-((df['ups'].abs()-mean)/std))) &(df['label']==0)]['ups'].hist(alpha=0.5,label='Not Sarcastic', color = 'blue')\n",
    "plt.yscale('log')\n",
    "plt.ylabel('Log Base10 Frequency')\n",
    "plt.xlabel('ups')\n",
    "plt.legend()\n",
    "plt.title('LogBase10-ups for Sarcastic vs. None-Sarcastic Comments')"
   ]
  },
  {
   "cell_type": "markdown",
   "id": "aa8797cf",
   "metadata": {
    "id": "aa8797cf"
   },
   "source": [
    "## parent comments VS comments"
   ]
  },
  {
   "cell_type": "code",
   "execution_count": 79,
   "id": "2dd714ad",
   "metadata": {
    "id": "2dd714ad"
   },
   "outputs": [],
   "source": [
    "comm_len = np.array(train_dataset['comment'].str.len())\n",
    "parent_comm_len = np.array(train_dataset['parent_comment'].str.len())\n",
    "ratio_len = np.array((train_dataset['comment'].str.len())/(train_dataset['parent_comment'].str.len()))\n",
    "\n",
    "df = pd.DataFrame( {\n",
    "    'label': train_dataset['label'],\n",
    "    'Comment Length': comm_len,\n",
    "    'Parent Comment Length': parent_comm_len,\n",
    "    'Ratio Length': ratio_len\n",
    "    }, columns=['label','Comment Length', 'Parent Comment Length', 'Ratio Length']\n",
    ")"
   ]
  },
  {
   "cell_type": "markdown",
   "id": "d728f09e",
   "metadata": {
    "id": "d728f09e"
   },
   "source": [
    "According to the below visual, we can conclude that in most of the cases; the length of the sarcastic comments is longer than their corresponding parent comments. and most of scarsam comment have lower size than natural comments"
   ]
  },
  {
   "cell_type": "code",
   "execution_count": 41,
   "id": "b38cb4aa",
   "metadata": {
    "colab": {
     "base_uri": "https://localhost:8080/",
     "height": 295
    },
    "id": "b38cb4aa",
    "outputId": "908bb293-4925-4a9d-fa50-f2820f2149d8"
   },
   "outputs": [
    {
     "data": {
      "image/png": "[encoded data removed]",
      "text/plain": [
       "<Figure size 432x288 with 1 Axes>"
      ]
     },
     "metadata": {
      "needs_background": "light",
      "tags": []
     },
     "output_type": "display_data"
    }
   ],
   "source": [
    "ax = plt.axes()\n",
    "sns.scatterplot(data=df, x=\"Comment Length\", y=\"Parent Comment Length\",size=\"Ratio Length\", hue='label', alpha=0.5)\n",
    "ax.set_title(\"Comparing  Comment Length with Parent Comment\")\n",
    "# control x and y limits\n",
    "plt.ylim(0, 12000)\n",
    "plt.xlim(0, 800)\n",
    "plt.show()"
   ]
  },
  {
   "cell_type": "markdown",
   "id": "d65aaa9c",
   "metadata": {
    "id": "d65aaa9c"
   },
   "source": [
    "## SubReddits"
   ]
  },
  {
   "cell_type": "markdown",
   "id": "27b284f6",
   "metadata": {
    "id": "27b284f6"
   },
   "source": [
    "Lets show top 10 subredits "
   ]
  },
  {
   "cell_type": "code",
   "execution_count": 80,
   "id": "fdd72ff5",
   "metadata": {
    "id": "fdd72ff5"
   },
   "outputs": [],
   "source": [
    "top_reddits = list(train_dataset['subreddit'].value_counts()[:10].keys())"
   ]
  },
  {
   "cell_type": "code",
   "execution_count": 81,
   "id": "99fd218d",
   "metadata": {
    "colab": {
     "base_uri": "https://localhost:8080/",
     "height": 388
    },
    "id": "99fd218d",
    "outputId": "fbc86c15-0e09-4b60-b111-3471ac0ba8fc"
   },
   "outputs": [
    {
     "data": {
      "text/html": [
       "<div>\n",
       "<style scoped>\n",
       "    .dataframe tbody tr th:only-of-type {\n",
       "        vertical-align: middle;\n",
       "    }\n",
       "\n",
       "    .dataframe tbody tr th {\n",
       "        vertical-align: top;\n",
       "    }\n",
       "\n",
       "    .dataframe thead th {\n",
       "        text-align: right;\n",
       "    }\n",
       "</style>\n",
       "<table border=\"1\" class=\"dataframe\">\n",
       "  <thead>\n",
       "    <tr style=\"text-align: right;\">\n",
       "      <th></th>\n",
       "      <th>label</th>\n",
       "    </tr>\n",
       "    <tr>\n",
       "      <th>subreddit</th>\n",
       "      <th></th>\n",
       "    </tr>\n",
       "  </thead>\n",
       "  <tbody>\n",
       "    <tr>\n",
       "      <th>AskReddit</th>\n",
       "      <td>0.403072</td>\n",
       "    </tr>\n",
       "    <tr>\n",
       "      <th>funny</th>\n",
       "      <td>0.453875</td>\n",
       "    </tr>\n",
       "    <tr>\n",
       "      <th>leagueoflegends</th>\n",
       "      <td>0.547077</td>\n",
       "    </tr>\n",
       "    <tr>\n",
       "      <th>news</th>\n",
       "      <td>0.600963</td>\n",
       "    </tr>\n",
       "    <tr>\n",
       "      <th>nfl</th>\n",
       "      <td>0.504654</td>\n",
       "    </tr>\n",
       "    <tr>\n",
       "      <th>pcmasterrace</th>\n",
       "      <td>0.568179</td>\n",
       "    </tr>\n",
       "    <tr>\n",
       "      <th>pics</th>\n",
       "      <td>0.487136</td>\n",
       "    </tr>\n",
       "    <tr>\n",
       "      <th>politics</th>\n",
       "      <td>0.605848</td>\n",
       "    </tr>\n",
       "    <tr>\n",
       "      <th>todayilearned</th>\n",
       "      <td>0.551382</td>\n",
       "    </tr>\n",
       "    <tr>\n",
       "      <th>worldnews</th>\n",
       "      <td>0.640108</td>\n",
       "    </tr>\n",
       "  </tbody>\n",
       "</table>\n",
       "</div>"
      ],
      "text/plain": [
       "                    label\n",
       "subreddit                \n",
       "AskReddit        0.403072\n",
       "funny            0.453875\n",
       "leagueoflegends  0.547077\n",
       "news             0.600963\n",
       "nfl              0.504654\n",
       "pcmasterrace     0.568179\n",
       "pics             0.487136\n",
       "politics         0.605848\n",
       "todayilearned    0.551382\n",
       "worldnews        0.640108"
      ]
     },
     "execution_count": 81,
     "metadata": {
      "tags": []
     },
     "output_type": "execute_result"
    }
   ],
   "source": [
    "train_dataset[train_dataset[\"subreddit\"].isin(top_reddits)].groupby(\"subreddit\").agg({\"label\" : \"mean\"})"
   ]
  },
  {
   "cell_type": "markdown",
   "id": "WWZLXNfJnppN",
   "metadata": {
    "id": "WWZLXNfJnppN"
   },
   "source": [
    "Here we can see that some subreddits seem much more sarcastic than others. The `worldnews` subreddit is highest among these with 64% sarcasm, whereas `AskReddit` is lowest with 40%. \n",
    "\n",
    "Based on this data, can we conclude that worldnews and atheism are among the most sarcastic subreddits on the site? Is it true that if we logged on and picked a random post on r/worldnews, we would have a 64% chance of getting a sarcastic one? The correct answer is no, to both questions.\n",
    "\n",
    "The reasoning lies in the fact that this dataset is taken from a sample of reddit comments. Not only that, but in order to create this balanced dataset, the authors even further sampled the data to even out the classes. In their paper, the authors state that in their original sample of comments, only 1% were sarcastic. Since this dataset has been manipulated in this way, it gives us a skewed view of comments and subreddits."
   ]
  },
  {
   "cell_type": "markdown",
   "id": "dfedca67",
   "metadata": {
    "id": "dfedca67"
   },
   "source": [
    "## Date"
   ]
  },
  {
   "cell_type": "markdown",
   "id": "oy66sDi4rfmJ",
   "metadata": {
    "id": "oy66sDi4rfmJ"
   },
   "source": [
    "For our next visualization, let's see if the amount of sarcastic comments varies over time"
   ]
  },
  {
   "cell_type": "markdown",
   "id": "ZQjWD_40sZC7",
   "metadata": {
    "id": "ZQjWD_40sZC7"
   },
   "source": [
    "Interesting, the percentage of sarcastic comments jumps around a bit, but tends to decrease as time goes on."
   ]
  },
  {
   "cell_type": "code",
   "execution_count": 46,
   "id": "i578kozAq5hH",
   "metadata": {
    "colab": {
     "base_uri": "https://localhost:8080/",
     "height": 306
    },
    "id": "i578kozAq5hH",
    "outputId": "12ddc12a-ccc7-427f-b962-e4ac6ba98ed2"
   },
   "outputs": [
    {
     "data": {
      "image/png": "[encoded data removed]",
      "text/plain": [
       "<Figure size 432x288 with 1 Axes>"
      ]
     },
     "metadata": {
      "needs_background": "light",
      "tags": []
     },
     "output_type": "display_data"
    }
   ],
   "source": [
    "by_month = train_dataset.groupby(\"date\").agg({\"label\" : \"mean\", \"comment\" : \"count\"})\n",
    "months = list(by_month.index)\n",
    "label_pos = list(range(0, len(months), 6))\n",
    "m_labels = [months[i] for i in label_pos]\n",
    "\n",
    "plt.plot(months, by_month[\"label\"])\n",
    "plt.xlabel(\"year-month\")\n",
    "plt.ylabel(\"% sarcastic\")\n",
    "plt.xticks(label_pos, m_labels, rotation=45, ha=\"right\")\n",
    "plt.show()"
   ]
  },
  {
   "cell_type": "markdown",
   "id": "vy7wVnm7svU4",
   "metadata": {
    "id": "vy7wVnm7svU4"
   },
   "source": [
    "Indeed, we see a large ramp up in the number of comments as time goes on. There are far more comments for 2015 and 2016 than there are before 2014. This reveals an interesting piece of information: as the number of comments increased over time, the percentage of sarcastic comments per month decreased."
   ]
  },
  {
   "cell_type": "code",
   "execution_count": 47,
   "id": "y33V3AJesoLt",
   "metadata": {
    "colab": {
     "base_uri": "https://localhost:8080/",
     "height": 306
    },
    "id": "y33V3AJesoLt",
    "outputId": "1b2e0f98-1586-405a-f429-761a7e18a548"
   },
   "outputs": [
    {
     "data": {
      "image/png": "[encoded data removed]",
      "text/plain": [
       "<Figure size 432x288 with 1 Axes>"
      ]
     },
     "metadata": {
      "needs_background": "light",
      "tags": []
     },
     "output_type": "display_data"
    }
   ],
   "source": [
    "months = list(by_month.index)\n",
    "label_pos = list(range(0, len(months), 6))\n",
    "m_labels = [months[i] for i in label_pos]\n",
    "\n",
    "plt.plot(months, by_month[\"comment\"])\n",
    "plt.xlabel(\"year-month\")\n",
    "plt.ylabel(\"# of comments\")\n",
    "plt.xticks(label_pos, m_labels, rotation=45, ha=\"right\")\n",
    "plt.show()"
   ]
  },
  {
   "cell_type": "markdown",
   "id": "zFjrTLVxtgea",
   "metadata": {
    "id": "zFjrTLVxtgea"
   },
   "source": [
    "Why would that be? My assumption is that though the label classes are balanced over the entire dataset, the authors did not bother to balance them over time, and possibly also not over other variables. Perhaps that was just difficult to do, but it reveals that using date as a feature in our models would cause them to base predictions on false trends.\n",
    "\n",
    "Does that mean that date is entirely useless to us? Maybe not. We may be able to utilize some information from it if we tinker with it a bit, which brings us to our next step: Feature Engineering."
   ]
  },
  {
   "cell_type": "markdown",
   "id": "fef217d3",
   "metadata": {
    "id": "fef217d3"
   },
   "source": [
    "# Normalization & Feature Engineering"
   ]
  },
  {
   "cell_type": "markdown",
   "id": "iDFM0e5J2w52",
   "metadata": {
    "id": "iDFM0e5J2w52"
   },
   "source": [
    "We can define some new features and investigate them.\n",
    "I'll add features `score_negative`, `has_downvote`, `score_negative`, `downvotes_more`, `upvotes_more3`, `commment_length`!\n",
    "\n",
    "Moreover, we break created_utc to `year`, `month`, `day` and `hour` and `day of week`."
   ]
  },
  {
   "cell_type": "code",
   "execution_count": 82,
   "id": "pKJmGdVb2wUG",
   "metadata": {
    "id": "pKJmGdVb2wUG"
   },
   "outputs": [],
   "source": [
    "def feature_engineering(dataset):\n",
    "    #score\n",
    "    dataset[\"score_negative\"] = dataset[\"score\"] < 0\n",
    "    dataset[\"has_downvote\"] = dataset[\"downs\"] == -1\n",
    "    dataset[\"downvotes_more\"] = dataset['downs'].abs() >= dataset['ups'].abs()\n",
    "    dataset[\"upvotes_more3\"] = dataset['ups'] >= 3\n",
    "    #time\n",
    "    dataset.created_utc = pd.to_datetime(dataset.created_utc)\n",
    "    dataset['timestamp'] = dataset[\"created_utc\"].values.astype(np.int64) // 10 ** 9\n",
    "    dataset['year'] = dataset.created_utc.dt.year\n",
    "    dataset['month'] = dataset.created_utc.dt.month\n",
    "    dataset['day'] = dataset.created_utc.dt.day\n",
    "    dataset['hour'] = dataset.created_utc.dt.hour\n",
    "    dataset['day_of_week'] = dataset['created_utc'].dt.day_name()\n",
    "    #comment\n",
    "    dataset['comment_length'] = dataset['comment'].astype(str).apply(lambda text: np.log(len(text)))\n",
    "\n",
    "\n",
    "    return dataset\n",
    "\n",
    "train_dataset = feature_engineering(train_dataset)\n",
    "test_dataset = feature_engineering(test_dataset)"
   ]
  },
  {
   "cell_type": "markdown",
   "id": "8sC84HPIxph6",
   "metadata": {
    "id": "8sC84HPIxph6"
   },
   "source": [
    "### Scores"
   ]
  },
  {
   "cell_type": "markdown",
   "id": "zxJtQT2g52yA",
   "metadata": {
    "id": "zxJtQT2g52yA"
   },
   "source": [
    "Let's investigate these features:<br>\n",
    "We can see that **if score is negative the post is more inclined to have sarcastic content,** hence we leave it as our feature."
   ]
  },
  {
   "cell_type": "code",
   "execution_count": 49,
   "id": "sxhiC_tU5zwy",
   "metadata": {
    "colab": {
     "base_uri": "https://localhost:8080/",
     "height": 1000
    },
    "id": "sxhiC_tU5zwy",
    "outputId": "d312eae8-d8af-4c8b-a1fd-e8d276825d4b"
   },
   "outputs": [
    {
     "data": {
      "image/png": "[encoded data removed]",
      "text/plain": [
       "<Figure size 432x288 with 1 Axes>"
      ]
     },
     "metadata": {
      "needs_background": "light",
      "tags": []
     },
     "output_type": "display_data"
    },
    {
     "data": {
      "image/png": "[encoded data removed]",
      "text/plain": [
       "<Figure size 432x288 with 1 Axes>"
      ]
     },
     "metadata": {
      "needs_background": "light",
      "tags": []
     },
     "output_type": "display_data"
    },
    {
     "data": {
      "image/png": "[encoded data removed]",
      "text/plain": [
       "<Figure size 432x288 with 1 Axes>"
      ]
     },
     "metadata": {
      "needs_background": "light",
      "tags": []
     },
     "output_type": "display_data"
    },
    {
     "data": {
      "image/png": "[encoded data removed]",
      "text/plain": [
       "<Figure size 432x288 with 1 Axes>"
      ]
     },
     "metadata": {
      "needs_background": "light",
      "tags": []
     },
     "output_type": "display_data"
    }
   ],
   "source": [
    "features = [\"score_negative\", \"has_downvote\", \"downvotes_more\", \"upvotes_more3\"]\n",
    "\n",
    "for feature in features:\n",
    "    sns.countplot(x=feature, hue='label', data=train_dataset)\n",
    "    plt.legend(title=feature, loc='upper right', labels=['Not sarcasm', 'Sarcasm'])\n",
    "    plt.show()"
   ]
  },
  {
   "cell_type": "markdown",
   "id": "KZP-Ss6Yx0Tn",
   "metadata": {
    "id": "KZP-Ss6Yx0Tn"
   },
   "source": [
    "### Time"
   ]
  },
  {
   "cell_type": "markdown",
   "id": "vTFOrrU8vfNN",
   "metadata": {
    "id": "vTFOrrU8vfNN"
   },
   "source": [
    "New comments are more sarcastic than old one, while the number of comments decreases too.<br>\n",
    "Moreover, in first hours number of sarcastic comment is lower than other.<br>\n",
    " And in the middle of month number of comment decreases!"
   ]
  },
  {
   "cell_type": "code",
   "execution_count": 50,
   "id": "gMKgx3gXvfNN",
   "metadata": {
    "colab": {
     "base_uri": "https://localhost:8080/",
     "height": 851
    },
    "id": "gMKgx3gXvfNN",
    "outputId": "d2318124-b7f0-4379-8e60-c2a12a1c1b28"
   },
   "outputs": [
    {
     "data": {
      "image/png": "[encoded data removed]",
      "text/plain": [
       "<Figure size 432x288 with 1 Axes>"
      ]
     },
     "metadata": {
      "needs_background": "light",
      "tags": []
     },
     "output_type": "display_data"
    },
    {
     "data": {
      "image/png": "[encoded data removed]",
      "text/plain": [
       "<Figure size 432x288 with 1 Axes>"
      ]
     },
     "metadata": {
      "needs_background": "light",
      "tags": []
     },
     "output_type": "display_data"
    },
    {
     "data": {
      "image/png": "[encoded data removed]",
      "text/plain": [
       "<Figure size 432x288 with 1 Axes>"
      ]
     },
     "metadata": {
      "needs_background": "light",
      "tags": []
     },
     "output_type": "display_data"
    }
   ],
   "source": [
    "ax = sns.countplot(y='year',  data= train_dataset, hue='label')\n",
    "ax.set(title = \"Count of comments per year\", ylabel=\"year\", xlabel = \"Total Count\")\n",
    "plt.show()\n",
    "\n",
    "ax = sns.countplot(y='month',  data= train_dataset, hue='label')\n",
    "ax.set(title = \"Count of comments per month\", ylabel=\"month\", xlabel = \"Total Count\")\n",
    "plt.show()\n",
    "\n",
    "ax = sns.countplot(y='hour',  data= train_dataset, hue='label')\n",
    "ax.set(title = \"Count of comments per hour\", ylabel=\"hour\", xlabel = \"Total Count\")\n",
    "plt.show()\n"
   ]
  },
  {
   "cell_type": "markdown",
   "id": "BM98S9B0vfNO",
   "metadata": {
    "id": "BM98S9B0vfNO"
   },
   "source": [
    "Looks like the portion of sarcastic comments stays fairly constant at 50/50 again, with a slight dip towards non-sarcastic on the weekends. In contrast to the months column we examined above, we can see that the number of comments stays relatively balanced across all the days of the week.\n",
    "\n"
   ]
  },
  {
   "cell_type": "code",
   "execution_count": 51,
   "id": "4jEoRni_vfNO",
   "metadata": {
    "colab": {
     "base_uri": "https://localhost:8080/",
     "height": 346
    },
    "id": "4jEoRni_vfNO",
    "outputId": "6aeb90f0-6323-4619-c095-8df45ada862d"
   },
   "outputs": [
    {
     "data": {
      "text/plain": [
       "[Text(0, 0.5, 'date'),\n",
       " Text(0.5, 0, 'Total Count'),\n",
       " Text(0.5, 1.0, 'Count of comments per day')]"
      ]
     },
     "execution_count": 51,
     "metadata": {
      "tags": []
     },
     "output_type": "execute_result"
    },
    {
     "data": {
      "image/png": "[encoded data removed]",
      "text/plain": [
       "<Figure size 432x288 with 1 Axes>"
      ]
     },
     "metadata": {
      "needs_background": "light",
      "tags": []
     },
     "output_type": "display_data"
    }
   ],
   "source": [
    "ax = sns.countplot(y='day_of_week',  data= train_dataset, hue='label')\n",
    "ax.set(title = \"Count of comments per day\", ylabel=\"date\", xlabel = \"Total Count\")"
   ]
  },
  {
   "cell_type": "markdown",
   "id": "Pccwaqi9x7pe",
   "metadata": {
    "id": "Pccwaqi9x7pe"
   },
   "source": [
    "### Length of Comments"
   ]
  },
  {
   "cell_type": "markdown",
   "id": "dc99b055",
   "metadata": {
    "id": "dc99b055"
   },
   "source": [
    "According to the graph below the lenght of the sarcastic comments is normally distributed where as the non-sarcastic comments is slightly negatively skewed, but they dont have much difference.\n"
   ]
  },
  {
   "cell_type": "code",
   "execution_count": 52,
   "id": "653aea34",
   "metadata": {
    "colab": {
     "base_uri": "https://localhost:8080/",
     "height": 281
    },
    "id": "653aea34",
    "outputId": "9a9b2701-d77d-4b9e-ed56-50cbbd89ec9b"
   },
   "outputs": [
    {
     "data": {
      "image/png": "[encoded data removed]",
      "text/plain": [
       "<Figure size 432x288 with 1 Axes>"
      ]
     },
     "metadata": {
      "needs_background": "light",
      "tags": []
     },
     "output_type": "display_data"
    }
   ],
   "source": [
    "df = train_dataset.copy()\n",
    "train_dataset[train_dataset['label']==0]['comment_length'].hist(alpha=0.6,label='Non-Sarcastic', color = 'blue')\n",
    "train_dataset[train_dataset['label']==1]['comment_length'].hist(alpha=0.6,label='Sarcastic', color = 'red')\n",
    "plt.legend()\n",
    "plt.title('Log Length of Comments')\n",
    "plt.show()"
   ]
  },
  {
   "cell_type": "markdown",
   "id": "iu8dYWnE0k-t",
   "metadata": {
    "id": "iu8dYWnE0k-t"
   },
   "source": [
    "## Corrolation"
   ]
  },
  {
   "cell_type": "markdown",
   "id": "89fdbabb",
   "metadata": {
    "id": "89fdbabb"
   },
   "source": [
    "*First*, we should numerize string columns to see their corrolations"
   ]
  },
  {
   "cell_type": "code",
   "execution_count": 83,
   "id": "7f3edca8",
   "metadata": {
    "id": "7f3edca8"
   },
   "outputs": [],
   "source": [
    "def normalize_timestamp(dataset):\n",
    "    col = dataset[\"timestamp\"]\n",
    "    dataset[\"timestamp\"] = (col - col.mean()) / (col.max() - col.min())\n",
    "    return dataset\n",
    "\n",
    "train_dataset['train'] = 1\n",
    "test_dataset['train'] = 0\n",
    "df = train_dataset.append(test_dataset, ignore_index=True)\n",
    "\n",
    "df['subreddit'] = pd.Categorical(df['subreddit'])\n",
    "df['subreddit'] = df['subreddit'].cat.codes\n",
    "\n",
    "df['author'] = pd.Categorical(df['author'])\n",
    "df['author'] = df['author'].cat.codes\n",
    "\n",
    "df = normalize_timestamp(df)\n",
    "\n",
    "train_dataset2 = df[df['train']==1]\n",
    "test_dataset2 = df[df['train']==0]\n",
    "    "
   ]
  },
  {
   "cell_type": "markdown",
   "id": "429b60ec",
   "metadata": {
    "id": "429b60ec"
   },
   "source": [
    "Lets take a look to corolation map"
   ]
  },
  {
   "cell_type": "code",
   "execution_count": 84,
   "id": "008ff32e",
   "metadata": {
    "colab": {
     "base_uri": "https://localhost:8080/",
     "height": 633
    },
    "id": "008ff32e",
    "outputId": "cb347650-71ae-4070-f282-f49c162e5daa"
   },
   "outputs": [
    {
     "data": {
      "text/plain": [
       "<matplotlib.axes._subplots.AxesSubplot at 0x7f66a2bd6110>"
      ]
     },
     "execution_count": 84,
     "metadata": {
      "tags": []
     },
     "output_type": "execute_result"
    },
    {
     "data": {
      "image/png": "[encoded data removed]",
      "text/plain": [
       "<Figure size 792x648 with 2 Axes>"
      ]
     },
     "metadata": {
      "needs_background": "light",
      "tags": []
     },
     "output_type": "display_data"
    }
   ],
   "source": [
    "corr = train_dataset2[['label', 'subreddit', 'author',\n",
    "                    'score', 'ups', 'downs',\n",
    "                    'year', 'month', 'day', 'hour',\n",
    "                    \"score_negative\", \"has_downvote\", \"downvotes_more\",\n",
    "                    \"upvotes_more3\", \"timestamp\", \"comment_length\"\n",
    "                    ]].corr()\n",
    "mask = np.triu(np.ones_like(corr, dtype=bool))\n",
    "f, ax = plt.subplots(figsize=(11, 9))\n",
    "cmap = sns.diverging_palette(230, 20, as_cmap=True)\n",
    "sns.heatmap(corr, cmap=cmap)"
   ]
  },
  {
   "cell_type": "markdown",
   "id": "iSDxWLcH2reh",
   "metadata": {
    "id": "iSDxWLcH2reh"
   },
   "source": [
    "## Features"
   ]
  },
  {
   "cell_type": "markdown",
   "id": "f559f7f5",
   "metadata": {
    "id": "f559f7f5"
   },
   "source": [
    "\n",
    "As we can see in corrolations we just keep `timestamp`, `socre_negative`, `year` and `has_downvote` features.\n",
    "\n",
    "As you may recall, during data exploration I decided that the `ups` and `downs` columns were unclear and unreliable. Therefore, I will be ommitting them from the model. I will also throw out all of the `auther`, and `parent_comment` column, since the model algorithms have no way to deal with them.\n",
    "\n",
    "As a result, our training data will consist of the following columns:   `subreddit`, `score_negative`, `has_downvote`, `timestamp`, `comment`."
   ]
  },
  {
   "cell_type": "code",
   "execution_count": 85,
   "id": "ede242d0",
   "metadata": {
    "id": "ede242d0"
   },
   "outputs": [],
   "source": [
    "cols = [\n",
    "    'subreddit',\n",
    "    'score_negative',\n",
    "    'has_downvote',\n",
    "    'timestamp',\n",
    "    'comment',\n",
    "]\n",
    "\n",
    "train_dataset = normalize_timestamp(train_dataset)\n",
    "test_dataset = normalize_timestamp(test_dataset)\n",
    "\n",
    "train_X = train_dataset[cols]\n",
    "test_X = test_dataset[cols]\n",
    "\n",
    "train_y = train_dataset[\"label\"]\n",
    "test_y = test_dataset[\"label\"]\n"
   ]
  },
  {
   "cell_type": "code",
   "execution_count": 86,
   "id": "ACL9EiWjFtdv",
   "metadata": {
    "colab": {
     "base_uri": "https://localhost:8080/",
     "height": 0
    },
    "id": "ACL9EiWjFtdv",
    "outputId": "9201c017-952b-4436-a7ce-5aea47641c16"
   },
   "outputs": [
    {
     "data": {
      "text/html": [
       "<div>\n",
       "<style scoped>\n",
       "    .dataframe tbody tr th:only-of-type {\n",
       "        vertical-align: middle;\n",
       "    }\n",
       "\n",
       "    .dataframe tbody tr th {\n",
       "        vertical-align: top;\n",
       "    }\n",
       "\n",
       "    .dataframe thead th {\n",
       "        text-align: right;\n",
       "    }\n",
       "</style>\n",
       "<table border=\"1\" class=\"dataframe\">\n",
       "  <thead>\n",
       "    <tr style=\"text-align: right;\">\n",
       "      <th></th>\n",
       "      <th>subreddit</th>\n",
       "      <th>score_negative</th>\n",
       "      <th>has_downvote</th>\n",
       "      <th>timestamp</th>\n",
       "      <th>comment</th>\n",
       "    </tr>\n",
       "  </thead>\n",
       "  <tbody>\n",
       "    <tr>\n",
       "      <th>0</th>\n",
       "      <td>politics</td>\n",
       "      <td>False</td>\n",
       "      <td>True</td>\n",
       "      <td>0.150579</td>\n",
       "      <td>nc nh</td>\n",
       "    </tr>\n",
       "    <tr>\n",
       "      <th>1</th>\n",
       "      <td>nba</td>\n",
       "      <td>True</td>\n",
       "      <td>True</td>\n",
       "      <td>0.155721</td>\n",
       "      <td>know west team play west team east team right</td>\n",
       "    </tr>\n",
       "    <tr>\n",
       "      <th>2</th>\n",
       "      <td>nfl</td>\n",
       "      <td>False</td>\n",
       "      <td>False</td>\n",
       "      <td>0.142332</td>\n",
       "      <td>underdog earlier today  gronk  announc afternoon  vega line move patriot 1</td>\n",
       "    </tr>\n",
       "    <tr>\n",
       "      <th>3</th>\n",
       "      <td>BlackPeopleTwitter</td>\n",
       "      <td>True</td>\n",
       "      <td>True</td>\n",
       "      <td>0.151223</td>\n",
       "      <td>meme funni none  new york nigga  one be</td>\n",
       "    </tr>\n",
       "    <tr>\n",
       "      <th>4</th>\n",
       "      <td>AskReddit</td>\n",
       "      <td>False</td>\n",
       "      <td>False</td>\n",
       "      <td>0.135326</td>\n",
       "      <td>pay attent her  long legal kick bed  befor take load</td>\n",
       "    </tr>\n",
       "  </tbody>\n",
       "</table>\n",
       "</div>"
      ],
      "text/plain": [
       "            subreddit  score_negative  has_downvote  timestamp  \\\n",
       "0  politics            False           True          0.150579    \n",
       "1  nba                 True            True          0.155721    \n",
       "2  nfl                 False           False         0.142332    \n",
       "3  BlackPeopleTwitter  True            True          0.151223    \n",
       "4  AskReddit           False           False         0.135326    \n",
       "\n",
       "                                                                      comment  \n",
       "0  nc nh                                                                       \n",
       "1  know west team play west team east team right                               \n",
       "2  underdog earlier today  gronk  announc afternoon  vega line move patriot 1  \n",
       "3  meme funni none  new york nigga  one be                                     \n",
       "4  pay attent her  long legal kick bed  befor take load                        "
      ]
     },
     "execution_count": 86,
     "metadata": {
      "tags": []
     },
     "output_type": "execute_result"
    }
   ],
   "source": [
    "train_X.head()"
   ]
  },
  {
   "cell_type": "markdown",
   "id": "6b48fadf",
   "metadata": {
    "id": "6b48fadf"
   },
   "source": [
    "# Embedding"
   ]
  },
  {
   "cell_type": "markdown",
   "id": "3c110afa",
   "metadata": {
    "id": "3c110afa"
   },
   "source": [
    "We use embeding techniques below:\n",
    "- Lemma Vectorizer\n",
    "- TF-IDF\n",
    "- Word2Vec\n"
   ]
  },
  {
   "cell_type": "markdown",
   "id": "6b105118",
   "metadata": {
    "id": "6b105118"
   },
   "source": [
    "## TF-IDF"
   ]
  },
  {
   "cell_type": "markdown",
   "id": "25be06cb",
   "metadata": {
    "id": "25be06cb"
   },
   "source": [
    "Here in tf-idf we set some parameters:\n",
    " - Don't use rare words (<20)\n",
    " - build bigrams, put a limit on maximal number of features\n",
    " -  and minimal word frequency"
   ]
  },
  {
   "cell_type": "code",
   "execution_count": 87,
   "id": "efe0cacd",
   "metadata": {
    "id": "efe0cacd"
   },
   "outputs": [],
   "source": [
    "# ngram_range: unigrams and bigrams,\n",
    "# min_df: inogre a feature if it is encounter only 20 time\n",
    "# max_df: inogre a feature if it is encountered too often\n",
    "tf_idf_text = TfidfVectorizer(ngram_range=(1, 2), min_df=20, max_df=0.7, max_features=50000)\n",
    "tf_idf_subreddits = TfidfVectorizer(ngram_range=(1, 1))\n",
    "\n",
    "def reshape(col):\n",
    "    return col.values.reshape((len(col.values), 1))\n",
    "\n",
    "def tf_idf(dataset, loc, fit=True):\n",
    "    if contain_model(loc):\n",
    "        with open(loc, 'rb') as file:\n",
    "            X = pickle.load(file)\n",
    "    else:\n",
    "        if fit:\n",
    "            tf_idf_subreddit = tf_idf_subreddits.fit_transform(dataset['subreddit'])\n",
    "            tf_idf_comment = tf_idf_text.fit_transform(dataset['comment'].astype('U').values)\n",
    "        else:\n",
    "            tf_idf_subreddit = tf_idf_subreddits.transform(dataset['subreddit'])\n",
    "            tf_idf_comment = tf_idf_text.transform(dataset['comment'].astype('U').values)\n",
    "        score_negative_reshaped = reshape(dataset['score_negative'])\n",
    "        has_downvote_reshaped = reshape(dataset['has_downvote'])\n",
    "        ts_reshaped = reshape(dataset['timestamp'])\n",
    "        X = hstack([\n",
    "                    tf_idf_comment,\n",
    "                    tf_idf_subreddit, \n",
    "                    score_negative_reshaped.astype(float),\n",
    "                    has_downvote_reshaped.astype(float),\n",
    "                    ts_reshaped.astype(float)\n",
    "                  ])\n",
    "        with open(loc, 'wb') as file:\n",
    "            pickle.dump(X, file)\n",
    "    return X\n",
    "\n",
    "tf_idf_train_X = tf_idf(train_X, BASE_PATH + \"tf_id_train_X.pkl\", True)\n",
    "tf_idf_test_X = tf_idf(test_X, BASE_PATH + \"tf_idf_test_X.pkl\", False)\n"
   ]
  },
  {
   "cell_type": "markdown",
   "id": "86cca83b",
   "metadata": {
    "id": "86cca83b"
   },
   "source": [
    "##  Bag of Words"
   ]
  },
  {
   "cell_type": "code",
   "execution_count": 89,
   "id": "fcdb5bf0",
   "metadata": {
    "id": "fcdb5bf0"
   },
   "outputs": [],
   "source": [
    "from nltk import word_tokenize\n",
    "from nltk.corpus import wordnet \n",
    "\n",
    "count_vectorizer_subredit = CountVectorizer(strip_accents='unicode', min_df=20, max_df=0.7,  max_features=50000) \n",
    "count_vectorizer_text = CountVectorizer() \n",
    "\n",
    "def reshape(col):\n",
    "    return col.values.reshape((len(col.values), 1))\n",
    "\n",
    "class LemmaTokenizer(object):\n",
    "    def __init__(self):\n",
    "        self.wnl = WordNetLemmatizer()\n",
    "    def __call__(self, articles):\n",
    "        return [self.wnl.lemmatize(t,wordnet.VERB) for t in word_tokenize(articles)]\n",
    "\n",
    "def bag_of_words(dataset, loc, fit=True):\n",
    "    if contain_model(loc):\n",
    "        with open(loc, 'rb') as file:\n",
    "            X = pickle.load(file)\n",
    "    else:\n",
    "        if fit:\n",
    "            tf_idf_subreddit = count_vectorizer_subredit.fit_transform(dataset['subreddit'])\n",
    "            tf_idf_comment = count_vectorizer_text.fit_transform(dataset['comment'].astype('U').values)\n",
    "        else:\n",
    "            tf_idf_subreddit = count_vectorizer_subredit.transform(dataset['subreddit'])\n",
    "            tf_idf_comment = count_vectorizer_text.transform(dataset['comment'].astype('U').values)\n",
    "        score_negative_reshaped = reshape(dataset['score_negative'])\n",
    "        has_downvote_reshaped = reshape(dataset['has_downvote'])\n",
    "        ts_reshaped = reshape(dataset['timestamp'])\n",
    "        X = hstack([\n",
    "                  tf_idf_comment,\n",
    "                  tf_idf_subreddit, \n",
    "                  score_negative_reshaped.astype(float),\n",
    "                  has_downvote_reshaped.astype(float),\n",
    "                  ts_reshaped.astype(float)\n",
    "                ])\n",
    "        with open(loc, 'wb') as file:\n",
    "             pickle.dump(X, file)\n",
    "    return X\n",
    "\n",
    "bag_w_train_X = bag_of_words(train_X, BASE_PATH + \"bag_w_train_X.pkl\", True)\n",
    "bag_w_test_X = bag_of_words(test_X, BASE_PATH + \"bag_w_test_X.pkl\", False)"
   ]
  },
  {
   "cell_type": "markdown",
   "id": "f149db12",
   "metadata": {
    "id": "f149db12"
   },
   "source": [
    "## Word2Vec"
   ]
  },
  {
   "cell_type": "code",
   "execution_count": 90,
   "id": "6a00fbec",
   "metadata": {
    "id": "6a00fbec"
   },
   "outputs": [],
   "source": [
    "import os\n",
    "import sys\n",
    "from gensim.models import Word2Vec\n",
    "from gensim.models.phrases import Phraser, Phrases\n",
    "from gensim.sklearn_api import W2VTransformer"
   ]
  },
  {
   "cell_type": "code",
   "execution_count": 91,
   "id": "4cdbd359",
   "metadata": {
    "id": "4cdbd359"
   },
   "outputs": [],
   "source": [
    "class MySentences(object):\n",
    "    \"\"\"MySentences is a generator to produce a list of tokenized sentences \n",
    "    \n",
    "    Takes a list of numpy arrays containing documents.\n",
    "    \n",
    "    Args:\n",
    "        arrays: List of arrays, where each element in the array contains a document.\n",
    "    \"\"\"\n",
    "    def __init__(self, *arrays):\n",
    "        self.arrays = arrays\n",
    " \n",
    "    def __iter__(self):\n",
    "        for array in self.arrays:\n",
    "            for document in array:\n",
    "                for sent in nltk.sent_tokenize(document):\n",
    "                    yield nltk.word_tokenize(sent)\n",
    "\n",
    "def get_word2vec(sentences, location):\n",
    "    \"\"\"Returns trained word2vec\n",
    "    \n",
    "    Args:\n",
    "        sentences: iterator for sentences\n",
    "        \n",
    "        location (str): Path to save/load word2vec\n",
    "    \"\"\"\n",
    "    if os.path.exists(location):\n",
    "        print('Found {}'.format(location))\n",
    "        model = Word2Vec.load(location)\n",
    "        return model\n",
    "    \n",
    "    print('{} not found. training model'.format(location))\n",
    "    \"\"\"\n",
    "     parameters:\n",
    "         min_count = int - Ignores all words with total absolute frequency lower than this - (2, 100)\n",
    "         window = int - The maximum distance between the current and predicted word within a sentence. E.g. window words on the left and window words on the left of our target - (2, 10)\n",
    "         size = int - Dimensionality of the feature vectors. - (50, 300)\n",
    "         sample = float - The threshold for configuring which higher-frequency words are randomly downsampled. Highly influencial. - (0, 1e-5)\n",
    "         alpha = float - The initial learning rate - (0.01, 0.05)\n",
    "         min_alpha = float - Learning rate will linearly drop to min_alpha as training progresses. To set it: alpha - (min_alpha * epochs) ~ 0.00\n",
    "         negative = int - If > 0, negative sampling will be used, the int for negative specifies how many \"noise words\" should be drown. If set to 0, no negative sampling is used. - (5, 20)\n",
    "         workers = int - Use these many worker threads to train the model (=faster training with multicore machines)\n",
    "    \"\"\"\n",
    "    model = Word2Vec(sentences, size=100, window=5, min_count=5, workers=4)\n",
    "    print('Model done training. Saving to disk')\n",
    "    model.save(location)\n",
    "    return model\n",
    "\n",
    "class MyTokenizer:\n",
    "    def __init__(self):\n",
    "        pass\n",
    "    \n",
    "    def fit(self, X, y=None):\n",
    "        return self\n",
    "    \n",
    "    def transform(self, X):\n",
    "        transformed_X = []\n",
    "        for document in X:\n",
    "            tokenized_doc = []\n",
    "            for sent in nltk.sent_tokenize(document):\n",
    "                tokenized_doc += nltk.word_tokenize(sent)\n",
    "            transformed_X.append(np.array(tokenized_doc))\n",
    "        return np.array(transformed_X)\n",
    "    \n",
    "    def fit_transform(self, X, y=None):\n",
    "        return self.transform(X)\n",
    "\n",
    "class MeanEmbeddingVectorizer(object):\n",
    "    def __init__(self, word2vec):\n",
    "        self.word2vec = word2vec\n",
    "        # if a text is empty we should return a vector of zeros\n",
    "        # with the same dimensionality as all the other vectors\n",
    "        self.dim = len(word2vec.wv.syn0[0])\n",
    "\n",
    "    def fit(self, X, y=None):\n",
    "        return self\n",
    "\n",
    "    def transform(self, X):\n",
    "        X = MyTokenizer().fit_transform(X)\n",
    "        \n",
    "        return np.array([\n",
    "            np.mean([self.word2vec.wv[w] for w in words if w in self.word2vec.wv]\n",
    "                    or [np.zeros(self.dim)], axis=0)\n",
    "            for words in X\n",
    "        ])\n",
    "    \n",
    "    def fit_transform(self, X, y=None):\n",
    "        return self.transform(X)\n",
    "\n"
   ]
  },
  {
   "cell_type": "code",
   "execution_count": 92,
   "id": "590cedbd",
   "metadata": {
    "colab": {
     "base_uri": "https://localhost:8080/"
    },
    "id": "590cedbd",
    "outputId": "fd4893f8-2f10-481e-8d91-9de3f7ea0142"
   },
   "outputs": [
    {
     "name": "stdout",
     "output_type": "stream",
     "text": [
      "Found /content/gdrive/My Drive/ml-phase2/w2vmodel\n",
      "Found /content/gdrive/My Drive/ml-phase2/subreddit_w2vmodel\n"
     ]
    }
   ],
   "source": [
    "def word2vec(dataset, loc):\n",
    "    df = dataset.copy()\n",
    "    if contain_model(loc):\n",
    "        df = pd.read_csv(loc)\n",
    "        df.drop(columns=['Unnamed: 0'], inplace=True)\n",
    "        return df\n",
    "    else:\n",
    "        mean_embedding_vectorizer = MeanEmbeddingVectorizer(w2vec_model)\n",
    "        df[\"comment\"] = mean_embedding_vectorizer.transform(df['comment'])\n",
    "        mean_embedding_vectorizer_subreddit = MeanEmbeddingVectorizer(subreddit_w2vec_model)\n",
    "        df[\"subreddit\"] = mean_embedding_vectorizer_subreddit.transform(df['subreddit'])\n",
    "        df.to_csv(loc)\n",
    "        return df\n",
    "\n",
    "w2vec_model = get_word2vec(\n",
    "    MySentences(\n",
    "        train_dataset['comment'].values,\n",
    "        test_dataset['comment'].values,\n",
    "    ),\n",
    "    BASE_PATH + 'w2vmodel'\n",
    ")\n",
    "\n",
    "subreddit_w2vec_model = get_word2vec(\n",
    "    MySentences(\n",
    "        train_dataset['subreddit'].values,\n",
    "        test_dataset['subreddit'].values,\n",
    "    ),\n",
    "    BASE_PATH + 'subreddit_w2vmodel'\n",
    ")\n",
    " \n",
    "train_word2vec_df = word2vec(train_X, BASE_PATH + \"w2vec_train_X.csv\")\n",
    "test_word2vec_df = word2vec(test_X, BASE_PATH + \"w2vec_test_X.csv\")\n",
    "\n"
   ]
  },
  {
   "cell_type": "markdown",
   "id": "5fd923ff",
   "metadata": {
    "id": "5fd923ff"
   },
   "source": [
    "# Model traning  "
   ]
  },
  {
   "cell_type": "code",
   "execution_count": 62,
   "id": "1f57d19d",
   "metadata": {
    "id": "1f57d19d"
   },
   "outputs": [],
   "source": [
    "from sklearn.linear_model import LogisticRegression\n",
    "from sklearn.pipeline import Pipeline\n",
    "from sklearn.metrics import accuracy_score, confusion_matrix, recall_score, precision_score, f1_score\n",
    "import datetime as dt\n",
    "from sklearn.model_selection import cross_val_score\n",
    "from sklearn.model_selection import GridSearchCV\n",
    "import calendar\n",
    "from sklearn.feature_extraction.text import TfidfVectorizer\n",
    "from sklearn.metrics.pairwise import cosine_similarity\n",
    "import time\n",
    "from sklearn.metrics import classification_report\n",
    "import pickle\n",
    "from sklearn.ensemble import BaggingClassifier\n",
    "from sklearn.ensemble import RandomForestClassifier\n",
    "from sklearn.svm import LinearSVC\n"
   ]
  },
  {
   "cell_type": "markdown",
   "id": "84ed1e20",
   "metadata": {
    "id": "84ed1e20"
   },
   "source": [
    "## 1. Logistic Regression"
   ]
  },
  {
   "cell_type": "code",
   "execution_count": 63,
   "id": "9ccda9af",
   "metadata": {
    "id": "9ccda9af"
   },
   "outputs": [],
   "source": [
    "class Logit:\n",
    "    def __init__(self):\n",
    "        self.model = LogisticRegression(C=1, n_jobs=4, solver='lbfgs', \n",
    "                           random_state=17, verbose=1)\n",
    "    def fit(self, train_x, train_y, loc):\n",
    "        if contain_model(loc):\n",
    "            with open(loc, 'rb') as file:\n",
    "                self.model = pickle.load(file)\n",
    "        else:\n",
    "            self.model.fit(train_x, train_y)\n",
    "            with open(loc, 'wb') as file:\n",
    "            pickle.dump(self.model, file)\n",
    "\n",
    "    def predict(self, test_x, test_y):\n",
    "        pred_y = self.model.predict(test_x)\n",
    "        print(\"results:\")\n",
    "        print(classification_report(test_y, pred_y))"
   ]
  },
  {
   "cell_type": "markdown",
   "id": "37778f96",
   "metadata": {
    "id": "37778f96"
   },
   "source": [
    "** **Logistic Regresion For TF-idf Results:** ** \n",
    "\n"
   ]
  },
  {
   "cell_type": "code",
   "execution_count": 88,
   "id": "6c1ec130",
   "metadata": {
    "colab": {
     "base_uri": "https://localhost:8080/"
    },
    "id": "6c1ec130",
    "outputId": "9ee4adc4-8b05-4b56-b196-2edb5fc09aba",
    "scrolled": false
   },
   "outputs": [
    {
     "name": "stdout",
     "output_type": "stream",
     "text": [
      "results:\n",
      "              precision    recall  f1-score   support\n",
      "\n",
      "           0       0.68      0.72      0.70    100562\n",
      "           1       0.71      0.66      0.68    100408\n",
      "\n",
      "    accuracy                           0.69    200970\n",
      "   macro avg       0.69      0.69      0.69    200970\n",
      "weighted avg       0.69      0.69      0.69    200970\n",
      "\n"
     ]
    }
   ],
   "source": [
    "logit = Logit()\n",
    "logit.fit(tf_idf_train_X, train_y, BASE_PATH + \"logit_tfid.pkl\")\n",
    "logit.predict(tf_idf_test_X, test_y)"
   ]
  },
  {
   "cell_type": "markdown",
   "id": "af0c440d",
   "metadata": {
    "id": "af0c440d"
   },
   "source": [
    "** **Logistic Regresion for Bag of Words results:** **"
   ]
  },
  {
   "cell_type": "code",
   "execution_count": 93,
   "id": "n-sRXIg475AT",
   "metadata": {
    "colab": {
     "base_uri": "https://localhost:8080/"
    },
    "id": "n-sRXIg475AT",
    "outputId": "fb9a9d51-52cb-49c8-f000-909771181f71"
   },
   "outputs": [
    {
     "name": "stdout",
     "output_type": "stream",
     "text": [
      "results:\n",
      "              precision    recall  f1-score   support\n",
      "\n",
      "           0       0.67      0.71      0.69    100562\n",
      "           1       0.69      0.65      0.67    100408\n",
      "\n",
      "    accuracy                           0.68    200970\n",
      "   macro avg       0.68      0.68      0.68    200970\n",
      "weighted avg       0.68      0.68      0.68    200970\n",
      "\n"
     ]
    }
   ],
   "source": [
    "logit = Logit()\n",
    "logit.fit(bag_w_train_X, train_y, BASE_PATH + \"logit_bag_w.pkl\")\n",
    "logit.predict(bag_w_test_X, test_y)"
   ]
  },
  {
   "cell_type": "markdown",
   "id": "cqxw9se-DX4b",
   "metadata": {
    "id": "cqxw9se-DX4b"
   },
   "source": [
    "** **Logistic Regresion for Word2Vector results:** **\n"
   ]
  },
  {
   "cell_type": "code",
   "execution_count": 94,
   "id": "xfy0Q0qePcYM",
   "metadata": {
    "colab": {
     "base_uri": "https://localhost:8080/"
    },
    "id": "xfy0Q0qePcYM",
    "outputId": "d058ee89-6b9d-4705-cf8f-e24b161232c4"
   },
   "outputs": [
    {
     "name": "stdout",
     "output_type": "stream",
     "text": [
      "results:\n",
      "              precision    recall  f1-score   support\n",
      "\n",
      "           0       0.54      0.61      0.57    100562\n",
      "           1       0.55      0.47      0.50    100408\n",
      "\n",
      "    accuracy                           0.54    200970\n",
      "   macro avg       0.54      0.54      0.54    200970\n",
      "weighted avg       0.54      0.54      0.54    200970\n",
      "\n"
     ]
    }
   ],
   "source": [
    "logit = Logit()\n",
    "logit.fit(train_word2vec_df, train_y, BASE_PATH + \"logit_w2vec.pkl\")\n",
    "logit.predict(test_word2vec_df, test_y)\n"
   ]
  },
  {
   "cell_type": "markdown",
   "id": "fs5MHQCaqZ-B",
   "metadata": {
    "id": "fs5MHQCaqZ-B"
   },
   "source": [
    "## 2. Random Forest"
   ]
  },
  {
   "cell_type": "code",
   "execution_count": 95,
   "id": "jo5bh3w-qdHT",
   "metadata": {
    "id": "jo5bh3w-qdHT"
   },
   "outputs": [],
   "source": [
    "class RandomForest:\n",
    "    def __init__(self):\n",
    "        self.model = RandomForestClassifier(\n",
    "          # n_estimators=200,\n",
    "          min_samples_leaf=20,\n",
    "          random_state=31, \n",
    "          n_jobs = 4,\n",
    "          oob_score=True\n",
    "    )\n",
    "\n",
    "    def fit(self, train_x, train_y, loc):\n",
    "        if contain_model(loc):\n",
    "            with open(loc, 'rb') as file:\n",
    "                self.model = pickle.load(file)\n",
    "        else:\n",
    "            self.model.fit(train_x, train_y)\n",
    "            with open(loc, 'wb') as file:\n",
    "                pickle.dump(self.model, file)\n",
    "\n",
    "    def predict(self, test_x, test_y):\n",
    "        pred_y = self.model.predict(test_x)\n",
    "        print(\"results:\")\n",
    "        print(classification_report(test_y, pred_y))"
   ]
  },
  {
   "cell_type": "markdown",
   "id": "L4NuTn6grGDU",
   "metadata": {
    "id": "L4NuTn6grGDU"
   },
   "source": [
    "** **Random Forest For TF-idf Results:** ** \n",
    "\n"
   ]
  },
  {
   "cell_type": "code",
   "execution_count": 96,
   "id": "he_9ns27rGDV",
   "metadata": {
    "colab": {
     "base_uri": "https://localhost:8080/"
    },
    "id": "he_9ns27rGDV",
    "outputId": "c5a0416d-76b9-45e4-9d9f-c6dc648d1b32",
    "scrolled": false
   },
   "outputs": [
    {
     "name": "stdout",
     "output_type": "stream",
     "text": [
      "results:\n",
      "              precision    recall  f1-score   support\n",
      "\n",
      "           0       0.66      0.68      0.67    100562\n",
      "           1       0.67      0.65      0.66    100408\n",
      "\n",
      "    accuracy                           0.67    200970\n",
      "   macro avg       0.67      0.67      0.67    200970\n",
      "weighted avg       0.67      0.67      0.67    200970\n",
      "\n"
     ]
    }
   ],
   "source": [
    "rf = RandomForest()\n",
    "rf.fit(tf_idf_train_X, train_y, BASE_PATH + \"rand_forest_tfid.pkl\")\n",
    "rf.predict(tf_idf_test_X, test_y)"
   ]
  },
  {
   "cell_type": "markdown",
   "id": "Q1h7O29mrVPN",
   "metadata": {
    "id": "Q1h7O29mrVPN"
   },
   "source": [
    "** **Random Forest for Bag of Words results:** **"
   ]
  },
  {
   "cell_type": "code",
   "execution_count": 97,
   "id": "iBd6R-cRrWmp",
   "metadata": {
    "colab": {
     "base_uri": "https://localhost:8080/"
    },
    "id": "iBd6R-cRrWmp",
    "outputId": "7604907d-b71a-45f1-b955-eefa43cac440"
   },
   "outputs": [
    {
     "name": "stdout",
     "output_type": "stream",
     "text": [
      "results:\n",
      "              precision    recall  f1-score   support\n",
      "\n",
      "           0       0.66      0.69      0.68    100562\n",
      "           1       0.68      0.64      0.66    100408\n",
      "\n",
      "    accuracy                           0.67    200970\n",
      "   macro avg       0.67      0.67      0.67    200970\n",
      "weighted avg       0.67      0.67      0.67    200970\n",
      "\n"
     ]
    }
   ],
   "source": [
    "rf = RandomForest()\n",
    "rf.fit(bag_w_train_X, train_y, BASE_PATH + \"rand_forest_bag_w.pkl\")\n",
    "rf.predict(bag_w_test_X, test_y)"
   ]
  },
  {
   "cell_type": "markdown",
   "id": "_KJDKu3qrWmq",
   "metadata": {
    "id": "_KJDKu3qrWmq"
   },
   "source": [
    "** **Random Forest for Word2Vector results:** **\n"
   ]
  },
  {
   "cell_type": "code",
   "execution_count": 98,
   "id": "oyvivok7rWmq",
   "metadata": {
    "colab": {
     "base_uri": "https://localhost:8080/"
    },
    "id": "oyvivok7rWmq",
    "outputId": "ed6f50f0-86ef-49b0-d92e-7ae7e60f63b0"
   },
   "outputs": [
    {
     "name": "stdout",
     "output_type": "stream",
     "text": [
      "results:\n",
      "              precision    recall  f1-score   support\n",
      "\n",
      "           0       0.57      0.58      0.58    100562\n",
      "           1       0.57      0.56      0.56    100408\n",
      "\n",
      "    accuracy                           0.57    200970\n",
      "   macro avg       0.57      0.57      0.57    200970\n",
      "weighted avg       0.57      0.57      0.57    200970\n",
      "\n"
     ]
    }
   ],
   "source": [
    "rf = RandomForest()\n",
    "rf.fit(train_word2vec_df, train_y, BASE_PATH + \"rand_forest_w2vec.pkl\")\n",
    "rf.predict(test_word2vec_df, test_y)\n"
   ]
  },
  {
   "cell_type": "markdown",
   "id": "daU6aY7YsLzI",
   "metadata": {
    "id": "daU6aY7YsLzI"
   },
   "source": [
    "## 3. SVM"
   ]
  },
  {
   "cell_type": "code",
   "execution_count": 99,
   "id": "8OdhlJzysLzI",
   "metadata": {
    "id": "8OdhlJzysLzI"
   },
   "outputs": [],
   "source": [
    "class SVM:\n",
    "    def __init__(self):\n",
    "        self.model = BaggingClassifier(\n",
    "            LinearSVC(),\n",
    "            n_estimators=200,\n",
    "            max_samples=50000, \n",
    "            bootstrap=True,\n",
    "             n_jobs=4, \n",
    "             oob_score=True\n",
    "    )\n",
    "\n",
    "    def fit(self, train_x, train_y, loc):\n",
    "        if contain_model(loc):\n",
    "            with open(loc, 'rb') as file:\n",
    "                self.model = pickle.load(file)\n",
    "        else:\n",
    "            self.model.fit(train_x, train_y)\n",
    "            with open(loc, 'wb') as file:\n",
    "                pickle.dump(self.model, file)\n",
    "\n",
    "    def predict(self, test_x, test_y):\n",
    "        pred_y = self.model.predict(test_x)\n",
    "        print(\"results:\")\n",
    "        print(classification_report(test_y, pred_y))"
   ]
  },
  {
   "cell_type": "markdown",
   "id": "fTDMcvLxsLzJ",
   "metadata": {
    "id": "fTDMcvLxsLzJ"
   },
   "source": [
    "** **SVM For TF-idf Results:** ** \n",
    "\n"
   ]
  },
  {
   "cell_type": "code",
   "execution_count": 100,
   "id": "PAX4nAJlsLzJ",
   "metadata": {
    "colab": {
     "base_uri": "https://localhost:8080/"
    },
    "id": "PAX4nAJlsLzJ",
    "outputId": "50579a2c-c72c-4f77-ddf5-46adff13917c",
    "scrolled": false
   },
   "outputs": [
    {
     "name": "stdout",
     "output_type": "stream",
     "text": [
      "results:\n",
      "              precision    recall  f1-score   support\n",
      "\n",
      "           0       0.68      0.74      0.71    100562\n",
      "           1       0.71      0.65      0.68    100408\n",
      "\n",
      "    accuracy                           0.69    200970\n",
      "   macro avg       0.69      0.69      0.69    200970\n",
      "weighted avg       0.69      0.69      0.69    200970\n",
      "\n"
     ]
    }
   ],
   "source": [
    "svm_model = SVM()\n",
    "svm_model.fit(tf_idf_train_X, train_y, BASE_PATH + \"svm_tfid.pkl\")\n",
    "svm_model.predict(tf_idf_test_X, test_y)"
   ]
  },
  {
   "cell_type": "markdown",
   "id": "h-jTler5sLzJ",
   "metadata": {
    "id": "h-jTler5sLzJ"
   },
   "source": [
    "** **SVM for Bag of Words results:** **"
   ]
  },
  {
   "cell_type": "code",
   "execution_count": 101,
   "id": "CgGeLeM2sLzJ",
   "metadata": {
    "colab": {
     "base_uri": "https://localhost:8080/"
    },
    "id": "CgGeLeM2sLzJ",
    "outputId": "0653c12b-8c33-4a6d-dd54-51a6b04863b3"
   },
   "outputs": [
    {
     "name": "stdout",
     "output_type": "stream",
     "text": [
      "results:\n",
      "              precision    recall  f1-score   support\n",
      "\n",
      "           0       0.67      0.72      0.70    100562\n",
      "           1       0.70      0.65      0.67    100408\n",
      "\n",
      "    accuracy                           0.68    200970\n",
      "   macro avg       0.69      0.68      0.68    200970\n",
      "weighted avg       0.69      0.68      0.68    200970\n",
      "\n"
     ]
    }
   ],
   "source": [
    "svm_model = SVM()\n",
    "svm_model.fit(bag_w_train_X, train_y, BASE_PATH + \"svm_bag_w.pkl\")\n",
    "svm_model.predict(bag_w_test_X, test_y)"
   ]
  },
  {
   "cell_type": "markdown",
   "id": "h4ViIh5ZsLzJ",
   "metadata": {
    "id": "h4ViIh5ZsLzJ"
   },
   "source": [
    "** **SVM for Word2Vector results:** **\n"
   ]
  },
  {
   "cell_type": "code",
   "execution_count": 102,
   "id": "1S_iuGNNsLzJ",
   "metadata": {
    "colab": {
     "base_uri": "https://localhost:8080/"
    },
    "id": "1S_iuGNNsLzJ",
    "outputId": "15a6a37f-f7b7-4ad5-fd56-5934bde5f65b"
   },
   "outputs": [
    {
     "name": "stdout",
     "output_type": "stream",
     "text": [
      "results:\n",
      "              precision    recall  f1-score   support\n",
      "\n",
      "           0       0.54      0.61      0.57    100562\n",
      "           1       0.55      0.47      0.50    100408\n",
      "\n",
      "    accuracy                           0.54    200970\n",
      "   macro avg       0.54      0.54      0.54    200970\n",
      "weighted avg       0.54      0.54      0.54    200970\n",
      "\n"
     ]
    }
   ],
   "source": [
    "svm_model = SVM()\n",
    "svm_model.fit(train_word2vec_df, train_y, BASE_PATH + \"svm_w2vec.pkl\")\n",
    "svm_model.predict(test_word2vec_df, test_y)"
   ]
  },
  {
   "cell_type": "markdown",
   "id": "oDdxkuuPsOHf",
   "metadata": {
    "id": "oDdxkuuPsOHf"
   },
   "source": [
    "# Sarcasm Detection with Neural Networks"
   ]
  },
  {
   "cell_type": "code",
   "execution_count": 66,
   "id": "1Px1ixpVsa6x",
   "metadata": {
    "colab": {
     "base_uri": "https://localhost:8080/"
    },
    "id": "1Px1ixpVsa6x",
    "outputId": "6b0cdd1c-eb61-4564-c2b3-8f67cfc719d7"
   },
   "outputs": [
    {
     "name": "stderr",
     "output_type": "stream",
     "text": [
      "/usr/local/lib/python3.7/dist-packages/ipykernel_launcher.py:9: FutureWarning:\n",
      "\n",
      "Passing a negative integer is deprecated in version 1.0 and will not be supported in future version. Instead, use None to not limit the column width.\n",
      "\n"
     ]
    }
   ],
   "source": [
    "from sklearn.model_selection import train_test_split\n",
    "from tensorflow.keras.preprocessing.text import Tokenizer\n",
    "from tensorflow.keras.preprocessing.sequence import pad_sequences\n",
    "import tensorflow as tf\n",
    "from tensorflow.keras.models import Sequential\n",
    "from tensorflow.keras.layers import Dense, Dropout, Embedding, Flatten\n",
    "import pandas as pd\n",
    "pd.set_option('display.max_columns', None)\n",
    "pd.set_option('max_colwidth', -1)\n",
    "import numpy as np\n",
    "from keras.preprocessing.text import Tokenizer\n",
    "from keras.preprocessing.sequence import pad_sequences\n",
    "from keras.layers import Dense, Input, LSTM, Embedding, Dropout, Activation, Flatten, Bidirectional, GlobalMaxPool1D\n",
    "from keras.models import Model\n",
    "import random\n",
    "import tensorflow as tf\n",
    "import torch\n",
    "import os\n",
    "import re\n",
    "from tqdm.notebook import tqdm\n",
    "from gensim.models import Word2Vec\n",
    "from keras.preprocessing import text, sequence"
   ]
  },
  {
   "cell_type": "code",
   "execution_count": 67,
   "id": "vNbj2D_Dsgy4",
   "metadata": {
    "colab": {
     "base_uri": "https://localhost:8080/"
    },
    "id": "vNbj2D_Dsgy4",
    "outputId": "0e111fc1-2356-4666-9939-c5be9162d205"
   },
   "outputs": [
    {
     "name": "stderr",
     "output_type": "stream",
     "text": [
      "/usr/local/lib/python3.7/dist-packages/ipykernel_launcher.py:1: SettingWithCopyWarning:\n",
      "\n",
      "\n",
      "A value is trying to be set on a copy of a slice from a DataFrame.\n",
      "Try using .loc[row_indexer,col_indexer] = value instead\n",
      "\n",
      "See the caveats in the documentation: https://pandas.pydata.org/pandas-docs/stable/user_guide/indexing.html#returning-a-view-versus-a-copy\n",
      "\n"
     ]
    }
   ],
   "source": [
    "train_X['comment']=train_X['comment'].astype(str)\n",
    "X=train_X['comment']\n",
    "y=train_y.values\n",
    "X_train, X_test, y_train, y_test = train_test_split(X, y, test_size=0.30, random_state=42)"
   ]
  },
  {
   "cell_type": "code",
   "execution_count": 68,
   "id": "2oEb-ERZslkC",
   "metadata": {
    "id": "2oEb-ERZslkC"
   },
   "outputs": [],
   "source": [
    "vocab_size=200000\n",
    "embedding_dim=16\n",
    "max_length=32\n",
    "trunc_type='post'\n",
    "padding_type='post'\n",
    "oov_tok='<oov>'\n",
    "\n",
    "tokenizer= Tokenizer(num_words=vocab_size, oov_token=oov_tok)\n",
    "tokenizer.fit_on_texts(X_train)\n",
    "word_index=tokenizer.word_index\n",
    "training_sequences=tokenizer.texts_to_sequences(X_train)\n",
    "training_padded=pad_sequences(training_sequences, maxlen=max_length, padding=padding_type, truncating=trunc_type)"
   ]
  },
  {
   "cell_type": "code",
   "execution_count": 69,
   "id": "-MS76JnTs3J-",
   "metadata": {
    "colab": {
     "base_uri": "https://localhost:8080/"
    },
    "id": "-MS76JnTs3J-",
    "outputId": "40def493-6cc5-404d-fc6e-f1b14da33077"
   },
   "outputs": [
    {
     "name": "stdout",
     "output_type": "stream",
     "text": [
      "Model: \"sequential\"\n",
      "_________________________________________________________________\n",
      "Layer (type)                 Output Shape              Param #   \n",
      "=================================================================\n",
      "embedding (Embedding)        (None, 32, 16)            3200000   \n",
      "_________________________________________________________________\n",
      "flatten (Flatten)            (None, 512)               0         \n",
      "_________________________________________________________________\n",
      "dense (Dense)                (None, 32)                16416     \n",
      "_________________________________________________________________\n",
      "dropout (Dropout)            (None, 32)                0         \n",
      "_________________________________________________________________\n",
      "dense_1 (Dense)              (None, 10)                330       \n",
      "_________________________________________________________________\n",
      "dropout_1 (Dropout)          (None, 10)                0         \n",
      "_________________________________________________________________\n",
      "dense_2 (Dense)              (None, 1)                 11        \n",
      "=================================================================\n",
      "Total params: 3,216,757\n",
      "Trainable params: 3,216,757\n",
      "Non-trainable params: 0\n",
      "_________________________________________________________________\n"
     ]
    }
   ],
   "source": [
    "import tensorflow as tf\n",
    "from tensorflow.keras.models import Sequential\n",
    "from tensorflow.keras.layers import Dense, Dropout, Embedding, Flatten\n",
    "model = Sequential()\n",
    "model.add(Embedding(vocab_size, embedding_dim, input_length=max_length))\n",
    "model.add(Flatten())\n",
    "model.add(Dense(units=32,activation='relu'))\n",
    "model.add(Dropout(0.5))\n",
    "model.add(Dense(units=10,activation='relu'))\n",
    "model.add(Dropout(0.5))\n",
    "model.add(Dense(units=1,activation='sigmoid'))\n",
    "opt = tf.keras.optimizers.Adam(learning_rate=0.0001)\n",
    "model.compile(loss='binary_crossentropy', optimizer=opt, metrics=['accuracy'])\n",
    "model.summary()"
   ]
  },
  {
   "cell_type": "code",
   "execution_count": 70,
   "id": "XIrTHM6ltBWg",
   "metadata": {
    "colab": {
     "base_uri": "https://localhost:8080/"
    },
    "id": "XIrTHM6ltBWg",
    "outputId": "e03e2d0a-8b6d-42c9-e256-0f6c3aba500e"
   },
   "outputs": [
    {
     "name": "stdout",
     "output_type": "stream",
     "text": [
      "Epoch 1/30\n",
      "2213/2213 [==============================] - 82s 37ms/step - loss: 0.6614 - accuracy: 0.5993 - val_loss: 0.6069 - val_accuracy: 0.6797\n",
      "Epoch 2/30\n",
      "2213/2213 [==============================] - 81s 37ms/step - loss: 0.6022 - accuracy: 0.6909 - val_loss: 0.5747 - val_accuracy: 0.7024\n",
      "Epoch 3/30\n",
      "2213/2213 [==============================] - 81s 37ms/step - loss: 0.5759 - accuracy: 0.7182 - val_loss: 0.5646 - val_accuracy: 0.7084\n",
      "Epoch 4/30\n",
      "2213/2213 [==============================] - 82s 37ms/step - loss: 0.5582 - accuracy: 0.7341 - val_loss: 0.5624 - val_accuracy: 0.7095\n",
      "Epoch 5/30\n",
      "2213/2213 [==============================] - 82s 37ms/step - loss: 0.5417 - accuracy: 0.7481 - val_loss: 0.5652 - val_accuracy: 0.7063\n",
      "Epoch 6/30\n",
      "2213/2213 [==============================] - 82s 37ms/step - loss: 0.5271 - accuracy: 0.7605 - val_loss: 0.5700 - val_accuracy: 0.7044\n",
      "Epoch 7/30\n",
      "2213/2213 [==============================] - 82s 37ms/step - loss: 0.5110 - accuracy: 0.7722 - val_loss: 0.5773 - val_accuracy: 0.7026\n",
      "Epoch 8/30\n",
      "2213/2213 [==============================] - 82s 37ms/step - loss: 0.4960 - accuracy: 0.7831 - val_loss: 0.5867 - val_accuracy: 0.6988\n",
      "Epoch 9/30\n",
      "2213/2213 [==============================] - 81s 37ms/step - loss: 0.4807 - accuracy: 0.7930 - val_loss: 0.5969 - val_accuracy: 0.6958\n",
      "Epoch 00009: early stopping\n"
     ]
    },
    {
     "data": {
      "text/plain": [
       "<tensorflow.python.keras.callbacks.History at 0x7f66b6106f10>"
      ]
     },
     "execution_count": 70,
     "metadata": {
      "tags": []
     },
     "output_type": "execute_result"
    }
   ],
   "source": [
    "from tensorflow.keras.callbacks import EarlyStopping\n",
    "early_stop = EarlyStopping(monitor='val_loss', mode='min', verbose=1, patience=5)\n",
    "model.fit(x=training_padded, y=y_train, batch_size=256, epochs=30, validation_data=(testing_padded, y_test), verbose=1, callbacks=[early_stop])"
   ]
  },
  {
   "cell_type": "code",
   "execution_count": 71,
   "id": "QE2IOdJRtO7A",
   "metadata": {
    "colab": {
     "base_uri": "https://localhost:8080/",
     "height": 357
    },
    "id": "QE2IOdJRtO7A",
    "outputId": "2a9170a3-45ae-4607-8552-11e8b9efe2db"
   },
   "outputs": [
    {
     "data": {
      "text/html": [
       "<div>\n",
       "<style scoped>\n",
       "    .dataframe tbody tr th:only-of-type {\n",
       "        vertical-align: middle;\n",
       "    }\n",
       "\n",
       "    .dataframe tbody tr th {\n",
       "        vertical-align: top;\n",
       "    }\n",
       "\n",
       "    .dataframe thead th {\n",
       "        text-align: right;\n",
       "    }\n",
       "</style>\n",
       "<table border=\"1\" class=\"dataframe\">\n",
       "  <thead>\n",
       "    <tr style=\"text-align: right;\">\n",
       "      <th></th>\n",
       "      <th>loss</th>\n",
       "      <th>accuracy</th>\n",
       "      <th>val_loss</th>\n",
       "      <th>val_accuracy</th>\n",
       "      <th>Epoch</th>\n",
       "    </tr>\n",
       "    <tr>\n",
       "      <th>Epoch</th>\n",
       "      <th></th>\n",
       "      <th></th>\n",
       "      <th></th>\n",
       "      <th></th>\n",
       "      <th></th>\n",
       "    </tr>\n",
       "  </thead>\n",
       "  <tbody>\n",
       "    <tr>\n",
       "      <th>1</th>\n",
       "      <td>0.661381</td>\n",
       "      <td>0.599317</td>\n",
       "      <td>0.606941</td>\n",
       "      <td>0.679745</td>\n",
       "      <td>1</td>\n",
       "    </tr>\n",
       "    <tr>\n",
       "      <th>2</th>\n",
       "      <td>0.602215</td>\n",
       "      <td>0.690937</td>\n",
       "      <td>0.574701</td>\n",
       "      <td>0.702386</td>\n",
       "      <td>2</td>\n",
       "    </tr>\n",
       "    <tr>\n",
       "      <th>3</th>\n",
       "      <td>0.575873</td>\n",
       "      <td>0.718210</td>\n",
       "      <td>0.564640</td>\n",
       "      <td>0.708393</td>\n",
       "      <td>3</td>\n",
       "    </tr>\n",
       "    <tr>\n",
       "      <th>4</th>\n",
       "      <td>0.558217</td>\n",
       "      <td>0.734064</td>\n",
       "      <td>0.562373</td>\n",
       "      <td>0.709534</td>\n",
       "      <td>4</td>\n",
       "    </tr>\n",
       "    <tr>\n",
       "      <th>5</th>\n",
       "      <td>0.541661</td>\n",
       "      <td>0.748083</td>\n",
       "      <td>0.565218</td>\n",
       "      <td>0.706337</td>\n",
       "      <td>5</td>\n",
       "    </tr>\n",
       "    <tr>\n",
       "      <th>6</th>\n",
       "      <td>0.527087</td>\n",
       "      <td>0.760455</td>\n",
       "      <td>0.569967</td>\n",
       "      <td>0.704405</td>\n",
       "      <td>6</td>\n",
       "    </tr>\n",
       "    <tr>\n",
       "      <th>7</th>\n",
       "      <td>0.510957</td>\n",
       "      <td>0.772221</td>\n",
       "      <td>0.577286</td>\n",
       "      <td>0.702616</td>\n",
       "      <td>7</td>\n",
       "    </tr>\n",
       "    <tr>\n",
       "      <th>8</th>\n",
       "      <td>0.495979</td>\n",
       "      <td>0.783127</td>\n",
       "      <td>0.586744</td>\n",
       "      <td>0.698756</td>\n",
       "      <td>8</td>\n",
       "    </tr>\n",
       "    <tr>\n",
       "      <th>9</th>\n",
       "      <td>0.480681</td>\n",
       "      <td>0.793035</td>\n",
       "      <td>0.596898</td>\n",
       "      <td>0.695764</td>\n",
       "      <td>9</td>\n",
       "    </tr>\n",
       "  </tbody>\n",
       "</table>\n",
       "</div>"
      ],
      "text/plain": [
       "           loss  accuracy  val_loss  val_accuracy  Epoch\n",
       "Epoch                                                   \n",
       "1      0.661381  0.599317  0.606941  0.679745      1    \n",
       "2      0.602215  0.690937  0.574701  0.702386      2    \n",
       "3      0.575873  0.718210  0.564640  0.708393      3    \n",
       "4      0.558217  0.734064  0.562373  0.709534      4    \n",
       "5      0.541661  0.748083  0.565218  0.706337      5    \n",
       "6      0.527087  0.760455  0.569967  0.704405      6    \n",
       "7      0.510957  0.772221  0.577286  0.702616      7    \n",
       "8      0.495979  0.783127  0.586744  0.698756      8    \n",
       "9      0.480681  0.793035  0.596898  0.695764      9    "
      ]
     },
     "execution_count": 71,
     "metadata": {
      "tags": []
     },
     "output_type": "execute_result"
    }
   ],
   "source": [
    "df_m=pd.DataFrame(model.history.history)\n",
    "df_m['Epoch']=range(1,10)\n",
    "df_m.index=df_m['Epoch']\n",
    "df_m"
   ]
  },
  {
   "cell_type": "code",
   "execution_count": 72,
   "id": "Kz-cSI3UtYw6",
   "metadata": {
    "colab": {
     "base_uri": "https://localhost:8080/",
     "height": 295
    },
    "id": "Kz-cSI3UtYw6",
    "outputId": "0473d254-75b0-4e94-f272-9ca295ef6793"
   },
   "outputs": [
    {
     "data": {
      "image/png": "[encoded data removed]",
      "text/plain": [
       "<Figure size 432x288 with 1 Axes>"
      ]
     },
     "metadata": {
      "needs_background": "light",
      "tags": []
     },
     "output_type": "display_data"
    }
   ],
   "source": [
    "plt.plot(df_m['loss'])\n",
    "plt.plot(df_m['val_loss'])\n",
    "plt.title('model loss')\n",
    "plt.ylabel('loss')\n",
    "plt.xlabel('epoch')\n",
    "plt.legend(['train_loss', 'val_loss'])\n",
    "plt.show()"
   ]
  },
  {
   "cell_type": "code",
   "execution_count": 73,
   "id": "hrcDOMiMtcFP",
   "metadata": {
    "colab": {
     "base_uri": "https://localhost:8080/",
     "height": 295
    },
    "id": "hrcDOMiMtcFP",
    "outputId": "855d6708-e3fe-466d-fad1-bd068ce8a4a8"
   },
   "outputs": [
    {
     "data": {
      "image/png": "[encoded data removed]",
      "text/plain": [
       "<Figure size 432x288 with 1 Axes>"
      ]
     },
     "metadata": {
      "needs_background": "light",
      "tags": []
     },
     "output_type": "display_data"
    }
   ],
   "source": [
    "# Accuracy Graph(Training and Validation) \n",
    "plt.plot(df_m['accuracy'])\n",
    "plt.plot(df_m['val_accuracy'])\n",
    "plt.title('model accuracy')\n",
    "plt.ylabel('accuracy')\n",
    "plt.xlabel('epoch')\n",
    "plt.legend(['train_acc', 'val_acc'])\n",
    "plt.show()"
   ]
  },
  {
   "cell_type": "markdown",
   "id": "3ac07b19",
   "metadata": {
    "id": "3ac07b19"
   },
   "source": [
    "# Refrence"
   ]
  },
  {
   "cell_type": "markdown",
   "id": "7ea180a5",
   "metadata": {
    "id": "7ea180a5"
   },
   "source": [
    "https://www.kaggle.com/reiinakano/basic-nlp-bag-of-words-tf-idf-word2vec-lstm <br>\n",
    "https://www.kaggle.com/logoffske/kr-assignment04-sarcasm-detection-with-logit <br>\n",
    "https://www.kaggle.com/yastapova/sarcasm-detection-2020-mentoring-proj-part-1<br>\n",
    "https://www.kaggle.com/morkvas/lemmatization-stemming-and-stopwords#Lemmatization,-Stemming-and-StopWords-for-sarcasm-detection<br>\n",
    "https://www.kaggle.com/prashantkikani/are-you-being-sarcastic-sarcasm-detection-nlp<br>\n",
    "https://medium.com/analytics-vidhya/sarcasm-detection-with-neural-networks<br>"
   ]
  }
 ],
 "metadata": {
  "colab": {
   "collapsed_sections": [
    "gyh_TlN75oor",
    "eea283f3",
    "UQwRhm_d2Dmq",
    "iSDxWLcH2reh",
    "5fd923ff"
   ],
   "name": "Untitled.ipynb",
   "provenance": []
  },
  "kernelspec": {
   "display_name": "Python 3",
   "language": "python",
   "name": "python3"
  },
  "language_info": {
   "codemirror_mode": {
    "name": "ipython",
    "version": 3
   },
   "file_extension": ".py",
   "mimetype": "text/x-python",
   "name": "python",
   "nbconvert_exporter": "python",
   "pygments_lexer": "ipython3",
   "version": "3.8.1"
  }
 },
 "nbformat": 4,
 "nbformat_minor": 5
}
